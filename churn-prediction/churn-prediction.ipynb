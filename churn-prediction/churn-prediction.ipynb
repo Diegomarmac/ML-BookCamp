{
 "cells": [
  {
   "cell_type": "code",
   "execution_count": 1,
   "id": "5aca91b5-c0f4-4b7c-ad10-2fe2ccbf7a77",
   "metadata": {},
   "outputs": [],
   "source": [
    "from IPython.display import display\n",
    "\n",
    "import pandas as pd\n",
    "import numpy as np\n",
    "\n",
    "from sklearn.model_selection import train_test_split\n",
    "from sklearn.metrics import mutual_info_score\n",
    "from sklearn.feature_extraction import DictVectorizer\n",
    "from sklearn.linear_model import LogisticRegression\n",
    "\n",
    "import seaborn as sns\n",
    "from matplotlib import pyplot as plt\n",
    "%matplotlib inline"
   ]
  },
  {
   "cell_type": "code",
   "execution_count": 2,
   "id": "e7a32aaf-23e4-46d4-88cd-3bc322d5b7d0",
   "metadata": {},
   "outputs": [
    {
     "data": {
      "text/html": [
       "<div>\n",
       "<style scoped>\n",
       "    .dataframe tbody tr th:only-of-type {\n",
       "        vertical-align: middle;\n",
       "    }\n",
       "\n",
       "    .dataframe tbody tr th {\n",
       "        vertical-align: top;\n",
       "    }\n",
       "\n",
       "    .dataframe thead th {\n",
       "        text-align: right;\n",
       "    }\n",
       "</style>\n",
       "<table border=\"1\" class=\"dataframe\">\n",
       "  <thead>\n",
       "    <tr style=\"text-align: right;\">\n",
       "      <th></th>\n",
       "      <th>0</th>\n",
       "      <th>1</th>\n",
       "      <th>2</th>\n",
       "      <th>3</th>\n",
       "      <th>4</th>\n",
       "    </tr>\n",
       "  </thead>\n",
       "  <tbody>\n",
       "    <tr>\n",
       "      <th>customerID</th>\n",
       "      <td>7590-VHVEG</td>\n",
       "      <td>5575-GNVDE</td>\n",
       "      <td>3668-QPYBK</td>\n",
       "      <td>7795-CFOCW</td>\n",
       "      <td>9237-HQITU</td>\n",
       "    </tr>\n",
       "    <tr>\n",
       "      <th>gender</th>\n",
       "      <td>Female</td>\n",
       "      <td>Male</td>\n",
       "      <td>Male</td>\n",
       "      <td>Male</td>\n",
       "      <td>Female</td>\n",
       "    </tr>\n",
       "    <tr>\n",
       "      <th>SeniorCitizen</th>\n",
       "      <td>0</td>\n",
       "      <td>0</td>\n",
       "      <td>0</td>\n",
       "      <td>0</td>\n",
       "      <td>0</td>\n",
       "    </tr>\n",
       "    <tr>\n",
       "      <th>Partner</th>\n",
       "      <td>Yes</td>\n",
       "      <td>No</td>\n",
       "      <td>No</td>\n",
       "      <td>No</td>\n",
       "      <td>No</td>\n",
       "    </tr>\n",
       "    <tr>\n",
       "      <th>Dependents</th>\n",
       "      <td>No</td>\n",
       "      <td>No</td>\n",
       "      <td>No</td>\n",
       "      <td>No</td>\n",
       "      <td>No</td>\n",
       "    </tr>\n",
       "    <tr>\n",
       "      <th>tenure</th>\n",
       "      <td>1</td>\n",
       "      <td>34</td>\n",
       "      <td>2</td>\n",
       "      <td>45</td>\n",
       "      <td>2</td>\n",
       "    </tr>\n",
       "    <tr>\n",
       "      <th>PhoneService</th>\n",
       "      <td>No</td>\n",
       "      <td>Yes</td>\n",
       "      <td>Yes</td>\n",
       "      <td>No</td>\n",
       "      <td>Yes</td>\n",
       "    </tr>\n",
       "    <tr>\n",
       "      <th>MultipleLines</th>\n",
       "      <td>No phone service</td>\n",
       "      <td>No</td>\n",
       "      <td>No</td>\n",
       "      <td>No phone service</td>\n",
       "      <td>No</td>\n",
       "    </tr>\n",
       "    <tr>\n",
       "      <th>InternetService</th>\n",
       "      <td>DSL</td>\n",
       "      <td>DSL</td>\n",
       "      <td>DSL</td>\n",
       "      <td>DSL</td>\n",
       "      <td>Fiber optic</td>\n",
       "    </tr>\n",
       "    <tr>\n",
       "      <th>OnlineSecurity</th>\n",
       "      <td>No</td>\n",
       "      <td>Yes</td>\n",
       "      <td>Yes</td>\n",
       "      <td>Yes</td>\n",
       "      <td>No</td>\n",
       "    </tr>\n",
       "    <tr>\n",
       "      <th>OnlineBackup</th>\n",
       "      <td>Yes</td>\n",
       "      <td>No</td>\n",
       "      <td>Yes</td>\n",
       "      <td>No</td>\n",
       "      <td>No</td>\n",
       "    </tr>\n",
       "    <tr>\n",
       "      <th>DeviceProtection</th>\n",
       "      <td>No</td>\n",
       "      <td>Yes</td>\n",
       "      <td>No</td>\n",
       "      <td>Yes</td>\n",
       "      <td>No</td>\n",
       "    </tr>\n",
       "    <tr>\n",
       "      <th>TechSupport</th>\n",
       "      <td>No</td>\n",
       "      <td>No</td>\n",
       "      <td>No</td>\n",
       "      <td>Yes</td>\n",
       "      <td>No</td>\n",
       "    </tr>\n",
       "    <tr>\n",
       "      <th>StreamingTV</th>\n",
       "      <td>No</td>\n",
       "      <td>No</td>\n",
       "      <td>No</td>\n",
       "      <td>No</td>\n",
       "      <td>No</td>\n",
       "    </tr>\n",
       "    <tr>\n",
       "      <th>StreamingMovies</th>\n",
       "      <td>No</td>\n",
       "      <td>No</td>\n",
       "      <td>No</td>\n",
       "      <td>No</td>\n",
       "      <td>No</td>\n",
       "    </tr>\n",
       "    <tr>\n",
       "      <th>Contract</th>\n",
       "      <td>Month-to-month</td>\n",
       "      <td>One year</td>\n",
       "      <td>Month-to-month</td>\n",
       "      <td>One year</td>\n",
       "      <td>Month-to-month</td>\n",
       "    </tr>\n",
       "    <tr>\n",
       "      <th>PaperlessBilling</th>\n",
       "      <td>Yes</td>\n",
       "      <td>No</td>\n",
       "      <td>Yes</td>\n",
       "      <td>No</td>\n",
       "      <td>Yes</td>\n",
       "    </tr>\n",
       "    <tr>\n",
       "      <th>PaymentMethod</th>\n",
       "      <td>Electronic check</td>\n",
       "      <td>Mailed check</td>\n",
       "      <td>Mailed check</td>\n",
       "      <td>Bank transfer (automatic)</td>\n",
       "      <td>Electronic check</td>\n",
       "    </tr>\n",
       "    <tr>\n",
       "      <th>MonthlyCharges</th>\n",
       "      <td>29.85</td>\n",
       "      <td>56.95</td>\n",
       "      <td>53.85</td>\n",
       "      <td>42.3</td>\n",
       "      <td>70.7</td>\n",
       "    </tr>\n",
       "    <tr>\n",
       "      <th>TotalCharges</th>\n",
       "      <td>29.85</td>\n",
       "      <td>1889.5</td>\n",
       "      <td>108.15</td>\n",
       "      <td>1840.75</td>\n",
       "      <td>151.65</td>\n",
       "    </tr>\n",
       "    <tr>\n",
       "      <th>Churn</th>\n",
       "      <td>No</td>\n",
       "      <td>No</td>\n",
       "      <td>Yes</td>\n",
       "      <td>No</td>\n",
       "      <td>Yes</td>\n",
       "    </tr>\n",
       "  </tbody>\n",
       "</table>\n",
       "</div>"
      ],
      "text/plain": [
       "                                 0             1               2  \\\n",
       "customerID              7590-VHVEG    5575-GNVDE      3668-QPYBK   \n",
       "gender                      Female          Male            Male   \n",
       "SeniorCitizen                    0             0               0   \n",
       "Partner                        Yes            No              No   \n",
       "Dependents                      No            No              No   \n",
       "tenure                           1            34               2   \n",
       "PhoneService                    No           Yes             Yes   \n",
       "MultipleLines     No phone service            No              No   \n",
       "InternetService                DSL           DSL             DSL   \n",
       "OnlineSecurity                  No           Yes             Yes   \n",
       "OnlineBackup                   Yes            No             Yes   \n",
       "DeviceProtection                No           Yes              No   \n",
       "TechSupport                     No            No              No   \n",
       "StreamingTV                     No            No              No   \n",
       "StreamingMovies                 No            No              No   \n",
       "Contract            Month-to-month      One year  Month-to-month   \n",
       "PaperlessBilling               Yes            No             Yes   \n",
       "PaymentMethod     Electronic check  Mailed check    Mailed check   \n",
       "MonthlyCharges               29.85         56.95           53.85   \n",
       "TotalCharges                 29.85        1889.5          108.15   \n",
       "Churn                           No            No             Yes   \n",
       "\n",
       "                                          3                 4  \n",
       "customerID                       7795-CFOCW        9237-HQITU  \n",
       "gender                                 Male            Female  \n",
       "SeniorCitizen                             0                 0  \n",
       "Partner                                  No                No  \n",
       "Dependents                               No                No  \n",
       "tenure                                   45                 2  \n",
       "PhoneService                             No               Yes  \n",
       "MultipleLines              No phone service                No  \n",
       "InternetService                         DSL       Fiber optic  \n",
       "OnlineSecurity                          Yes                No  \n",
       "OnlineBackup                             No                No  \n",
       "DeviceProtection                        Yes                No  \n",
       "TechSupport                             Yes                No  \n",
       "StreamingTV                              No                No  \n",
       "StreamingMovies                          No                No  \n",
       "Contract                           One year    Month-to-month  \n",
       "PaperlessBilling                         No               Yes  \n",
       "PaymentMethod     Bank transfer (automatic)  Electronic check  \n",
       "MonthlyCharges                         42.3              70.7  \n",
       "TotalCharges                        1840.75            151.65  \n",
       "Churn                                    No               Yes  "
      ]
     },
     "execution_count": 2,
     "metadata": {},
     "output_type": "execute_result"
    }
   ],
   "source": [
    "df = pd.read_csv('Customer-Churn.csv')\n",
    "df.head().T"
   ]
  },
  {
   "cell_type": "code",
   "execution_count": 3,
   "id": "af7159d8-1bb5-49d3-aae3-1d6091c5dc4b",
   "metadata": {},
   "outputs": [
    {
     "data": {
      "text/plain": [
       "customerID           object\n",
       "gender               object\n",
       "SeniorCitizen         int64\n",
       "Partner              object\n",
       "Dependents           object\n",
       "tenure                int64\n",
       "PhoneService         object\n",
       "MultipleLines        object\n",
       "InternetService      object\n",
       "OnlineSecurity       object\n",
       "OnlineBackup         object\n",
       "DeviceProtection     object\n",
       "TechSupport          object\n",
       "StreamingTV          object\n",
       "StreamingMovies      object\n",
       "Contract             object\n",
       "PaperlessBilling     object\n",
       "PaymentMethod        object\n",
       "MonthlyCharges      float64\n",
       "TotalCharges         object\n",
       "Churn                object\n",
       "dtype: object"
      ]
     },
     "execution_count": 3,
     "metadata": {},
     "output_type": "execute_result"
    }
   ],
   "source": [
    "df.dtypes"
   ]
  },
  {
   "cell_type": "markdown",
   "id": "4d05ab5d-547b-4416-9a00-7b111ad1058e",
   "metadata": {},
   "source": [
    "## Data Normalization"
   ]
  },
  {
   "cell_type": "markdown",
   "id": "5ed65c83-e0f2-4926-946f-f47ce96d0d3b",
   "metadata": {},
   "source": [
    "As TotalCharges must be a number, let's converting it to numbers  \n",
    "_coerce_ option will replace all nonnumeric values with a NaN"
   ]
  },
  {
   "cell_type": "code",
   "execution_count": 4,
   "id": "fd2ddc2d-e0f5-4cfb-a3b1-bba14ecaf1d6",
   "metadata": {},
   "outputs": [
    {
     "data": {
      "text/html": [
       "<div>\n",
       "<style scoped>\n",
       "    .dataframe tbody tr th:only-of-type {\n",
       "        vertical-align: middle;\n",
       "    }\n",
       "\n",
       "    .dataframe tbody tr th {\n",
       "        vertical-align: top;\n",
       "    }\n",
       "\n",
       "    .dataframe thead th {\n",
       "        text-align: right;\n",
       "    }\n",
       "</style>\n",
       "<table border=\"1\" class=\"dataframe\">\n",
       "  <thead>\n",
       "    <tr style=\"text-align: right;\">\n",
       "      <th></th>\n",
       "      <th>customerID</th>\n",
       "      <th>TotalCharges</th>\n",
       "    </tr>\n",
       "  </thead>\n",
       "  <tbody>\n",
       "    <tr>\n",
       "      <th>488</th>\n",
       "      <td>4472-LVYGI</td>\n",
       "      <td></td>\n",
       "    </tr>\n",
       "    <tr>\n",
       "      <th>753</th>\n",
       "      <td>3115-CZMZD</td>\n",
       "      <td></td>\n",
       "    </tr>\n",
       "    <tr>\n",
       "      <th>936</th>\n",
       "      <td>5709-LVOEQ</td>\n",
       "      <td></td>\n",
       "    </tr>\n",
       "    <tr>\n",
       "      <th>1082</th>\n",
       "      <td>4367-NUYAO</td>\n",
       "      <td></td>\n",
       "    </tr>\n",
       "    <tr>\n",
       "      <th>1340</th>\n",
       "      <td>1371-DWPAZ</td>\n",
       "      <td></td>\n",
       "    </tr>\n",
       "    <tr>\n",
       "      <th>3331</th>\n",
       "      <td>7644-OMVMY</td>\n",
       "      <td></td>\n",
       "    </tr>\n",
       "    <tr>\n",
       "      <th>3826</th>\n",
       "      <td>3213-VVOLG</td>\n",
       "      <td></td>\n",
       "    </tr>\n",
       "    <tr>\n",
       "      <th>4380</th>\n",
       "      <td>2520-SGTTA</td>\n",
       "      <td></td>\n",
       "    </tr>\n",
       "    <tr>\n",
       "      <th>5218</th>\n",
       "      <td>2923-ARZLG</td>\n",
       "      <td></td>\n",
       "    </tr>\n",
       "    <tr>\n",
       "      <th>6670</th>\n",
       "      <td>4075-WKNIU</td>\n",
       "      <td></td>\n",
       "    </tr>\n",
       "    <tr>\n",
       "      <th>6754</th>\n",
       "      <td>2775-SEFEE</td>\n",
       "      <td></td>\n",
       "    </tr>\n",
       "  </tbody>\n",
       "</table>\n",
       "</div>"
      ],
      "text/plain": [
       "      customerID TotalCharges\n",
       "488   4472-LVYGI             \n",
       "753   3115-CZMZD             \n",
       "936   5709-LVOEQ             \n",
       "1082  4367-NUYAO             \n",
       "1340  1371-DWPAZ             \n",
       "3331  7644-OMVMY             \n",
       "3826  3213-VVOLG             \n",
       "4380  2520-SGTTA             \n",
       "5218  2923-ARZLG             \n",
       "6670  4075-WKNIU             \n",
       "6754  2775-SEFEE             "
      ]
     },
     "execution_count": 4,
     "metadata": {},
     "output_type": "execute_result"
    }
   ],
   "source": [
    "total_charges = pd.to_numeric(df.TotalCharges, errors='coerce')\n",
    "df[total_charges.isnull()][['customerID', 'TotalCharges']]"
   ]
  },
  {
   "cell_type": "markdown",
   "id": "8627d433-2787-4d11-a7d0-7516eee2f04c",
   "metadata": {},
   "source": [
    "We see that indeed there are spaces in the TotalCharges column, let's set the missing values to zero"
   ]
  },
  {
   "cell_type": "code",
   "execution_count": 5,
   "id": "50018a10-db1d-42cd-9daa-6a3147664745",
   "metadata": {},
   "outputs": [],
   "source": [
    "df.TotalCharges = pd.to_numeric(df.TotalCharges, errors='coerce')\n",
    "df.TotalCharges = df.TotalCharges.fillna(0)"
   ]
  },
  {
   "cell_type": "markdown",
   "id": "8d5b40ab-bb3b-4182-b3a7-953f1e632ad0",
   "metadata": {},
   "source": [
    "Column names naming convention"
   ]
  },
  {
   "cell_type": "code",
   "execution_count": 6,
   "id": "a53be527-fe33-4c33-9151-26f232c56701",
   "metadata": {},
   "outputs": [],
   "source": [
    "df.columns = df.columns.str.lower().str.replace(' ', '_')\n",
    "\n",
    "string_columns = list(df.dtypes[df.dtypes == 'object'].index)\n",
    "\n",
    "for col in string_columns:\n",
    "    df[col] = df[col].str.lower().str.replace(' ', '_')"
   ]
  },
  {
   "cell_type": "markdown",
   "id": "32488784-1188-4786-832c-7321c5f9ccdf",
   "metadata": {},
   "source": [
    "Churn... it's categorical, with two values, yes and no. For binary classification, all models typically expect a number: 0 for no and 1 for yes. So let's convert it to numbers"
   ]
  },
  {
   "cell_type": "code",
   "execution_count": 7,
   "id": "6b346a9e-8815-404d-8cb9-9579a69e3327",
   "metadata": {},
   "outputs": [
    {
     "data": {
      "text/plain": [
       "0    0\n",
       "1    0\n",
       "2    1\n",
       "3    0\n",
       "4    1\n",
       "Name: churn, dtype: int64"
      ]
     },
     "execution_count": 7,
     "metadata": {},
     "output_type": "execute_result"
    }
   ],
   "source": [
    "df.churn = (df.churn == 'yes').astype(int)\n",
    "df.churn.head()"
   ]
  },
  {
   "cell_type": "markdown",
   "id": "98aef654-a272-469d-84c9-ac8694435819",
   "metadata": {},
   "source": [
    "## Data split"
   ]
  },
  {
   "cell_type": "code",
   "execution_count": 8,
   "id": "87a79970-4031-46d7-b196-a98d083c2efe",
   "metadata": {},
   "outputs": [],
   "source": [
    "df_train_full, df_test = train_test_split(df, test_size=0.2, random_state= 1)\n",
    "df_train, df_val = train_test_split(df_train_full, test_size=0.33, random_state=11)\n",
    "\n",
    "y_train = df_train.churn.values\n",
    "y_val = df_val.churn.values\n",
    "\n",
    "del df_train['churn']\n",
    "del df_val['churn']"
   ]
  },
  {
   "cell_type": "markdown",
   "id": "094bf706-c89d-44ed-be4b-6e389310bfd4",
   "metadata": {},
   "source": [
    "## Exploratory Data Analysis"
   ]
  },
  {
   "cell_type": "code",
   "execution_count": 9,
   "id": "1b3be83b-f020-428f-ad1a-889fd3530133",
   "metadata": {},
   "outputs": [
    {
     "data": {
      "text/plain": [
       "customerid          0\n",
       "gender              0\n",
       "seniorcitizen       0\n",
       "partner             0\n",
       "dependents          0\n",
       "tenure              0\n",
       "phoneservice        0\n",
       "multiplelines       0\n",
       "internetservice     0\n",
       "onlinesecurity      0\n",
       "onlinebackup        0\n",
       "deviceprotection    0\n",
       "techsupport         0\n",
       "streamingtv         0\n",
       "streamingmovies     0\n",
       "contract            0\n",
       "paperlessbilling    0\n",
       "paymentmethod       0\n",
       "monthlycharges      0\n",
       "totalcharges        0\n",
       "churn               0\n",
       "dtype: int64"
      ]
     },
     "execution_count": 9,
     "metadata": {},
     "output_type": "execute_result"
    }
   ],
   "source": [
    "df_train_full.isnull().sum()"
   ]
  },
  {
   "cell_type": "markdown",
   "id": "4cb815b1-2f67-4959-8ef8-4c1a35b872b0",
   "metadata": {},
   "source": [
    "Let's get the churn rate"
   ]
  },
  {
   "cell_type": "code",
   "execution_count": 10,
   "id": "88c653e9-e4e8-477e-b7ab-66d2bf590ed9",
   "metadata": {},
   "outputs": [
    {
     "data": {
      "text/plain": [
       "0.27"
      ]
     },
     "execution_count": 10,
     "metadata": {},
     "output_type": "execute_result"
    }
   ],
   "source": [
    "global_mean = df_train_full.churn.mean()\n",
    "round(global_mean,3)"
   ]
  },
  {
   "cell_type": "code",
   "execution_count": 11,
   "id": "8f737853-4d13-4f4b-87e5-6f4ae1e59626",
   "metadata": {},
   "outputs": [],
   "source": [
    "categorical = ['gender', 'seniorcitizen', 'partner', 'dependents','phoneservice', 'multiplelines', 'internetservice','onlinesecurity', 'onlinebackup', 'deviceprotection',\n",
    "               'techsupport', 'streamingtv', 'streamingmovies','contract', 'paperlessbilling', 'paymentmethod']\n",
    "numerical = ['tenure', 'monthlycharges', 'totalcharges']"
   ]
  },
  {
   "cell_type": "code",
   "execution_count": 12,
   "id": "93a64a67-dca1-4bcb-907e-29eb5703b40b",
   "metadata": {},
   "outputs": [
    {
     "data": {
      "text/plain": [
       "gender              2\n",
       "seniorcitizen       2\n",
       "partner             2\n",
       "dependents          2\n",
       "phoneservice        2\n",
       "multiplelines       3\n",
       "internetservice     3\n",
       "onlinesecurity      3\n",
       "onlinebackup        3\n",
       "deviceprotection    3\n",
       "techsupport         3\n",
       "streamingtv         3\n",
       "streamingmovies     3\n",
       "contract            3\n",
       "paperlessbilling    2\n",
       "paymentmethod       4\n",
       "dtype: int64"
      ]
     },
     "execution_count": 12,
     "metadata": {},
     "output_type": "execute_result"
    }
   ],
   "source": [
    "df_train_full[categorical].nunique()"
   ]
  },
  {
   "cell_type": "markdown",
   "id": "0965f6f5-f5ed-418a-8e07-e6d584b05a61",
   "metadata": {},
   "source": [
    "## Feature Importance"
   ]
  },
  {
   "cell_type": "code",
   "execution_count": 13,
   "id": "b20d4b91-c571-45ca-a3aa-9bc7fd116aad",
   "metadata": {},
   "outputs": [
    {
     "name": "stdout",
     "output_type": "stream",
     "text": [
      "Female churn mean:  0.27682403433476394\n",
      "Male churn mean:  0.2632135306553911\n"
     ]
    }
   ],
   "source": [
    "female_mean = df_train_full[df_train_full.gender == 'female'].churn.mean()\n",
    "male_mean = df_train_full[df_train_full.gender == 'male'].churn.mean()\n",
    "\n",
    "print('Female churn mean: ',female_mean)\n",
    "print('Male churn mean: ',male_mean)"
   ]
  },
  {
   "cell_type": "markdown",
   "id": "c2c3fe4d-cb17-4c84-b808-23dfbeb4b90e",
   "metadata": {},
   "source": [
    "That indicates that knowing the gender of the customer doesn't help us identify wheter they will churn, let's check _partner_"
   ]
  },
  {
   "cell_type": "code",
   "execution_count": 14,
   "id": "22f3086b-6fae-4555-8ca1-6a4efd1338d4",
   "metadata": {},
   "outputs": [
    {
     "name": "stdout",
     "output_type": "stream",
     "text": [
      "Partner_yes churn mean: 0.20503330866025166\n",
      "Partner_no churn mean: 0.3298090040927694\n"
     ]
    }
   ],
   "source": [
    "partner_yes = df_train_full[df_train_full.partner == 'yes'].churn.mean()\n",
    "partner_no = df_train_full[df_train_full.partner == 'no'].churn.mean()\n",
    "\n",
    "print('Partner_yes churn mean:', partner_yes)\n",
    "print('Partner_no churn mean:', partner_no)"
   ]
  },
  {
   "cell_type": "markdown",
   "id": "29291e96-46fe-4132-881b-7d6670c80ebf",
   "metadata": {},
   "source": [
    "It means that clients with no partner are more likely to churn than the ones with a partner"
   ]
  },
  {
   "cell_type": "markdown",
   "id": "94f0639b-9637-4d0a-b95a-9e372d0ff82f",
   "metadata": {},
   "source": [
    "### Risk Ratio"
   ]
  },
  {
   "cell_type": "code",
   "execution_count": 15,
   "id": "ae3977cd-ddd2-46ae-8ee6-f1922f801b75",
   "metadata": {},
   "outputs": [
    {
     "data": {
      "text/html": [
       "<div>\n",
       "<style scoped>\n",
       "    .dataframe tbody tr th:only-of-type {\n",
       "        vertical-align: middle;\n",
       "    }\n",
       "\n",
       "    .dataframe tbody tr th {\n",
       "        vertical-align: top;\n",
       "    }\n",
       "\n",
       "    .dataframe thead th {\n",
       "        text-align: right;\n",
       "    }\n",
       "</style>\n",
       "<table border=\"1\" class=\"dataframe\">\n",
       "  <thead>\n",
       "    <tr style=\"text-align: right;\">\n",
       "      <th></th>\n",
       "      <th>mean</th>\n",
       "      <th>diff</th>\n",
       "      <th>risk</th>\n",
       "    </tr>\n",
       "    <tr>\n",
       "      <th>gender</th>\n",
       "      <th></th>\n",
       "      <th></th>\n",
       "      <th></th>\n",
       "    </tr>\n",
       "  </thead>\n",
       "  <tbody>\n",
       "    <tr>\n",
       "      <th>female</th>\n",
       "      <td>0.276824</td>\n",
       "      <td>0.006856</td>\n",
       "      <td>1.025396</td>\n",
       "    </tr>\n",
       "    <tr>\n",
       "      <th>male</th>\n",
       "      <td>0.263214</td>\n",
       "      <td>-0.006755</td>\n",
       "      <td>0.974980</td>\n",
       "    </tr>\n",
       "  </tbody>\n",
       "</table>\n",
       "</div>"
      ],
      "text/plain": [
       "            mean      diff      risk\n",
       "gender                              \n",
       "female  0.276824  0.006856  1.025396\n",
       "male    0.263214 -0.006755  0.974980"
      ]
     },
     "execution_count": 15,
     "metadata": {},
     "output_type": "execute_result"
    }
   ],
   "source": [
    "global_mean = df_train_full.churn.mean()\n",
    "\n",
    "df_group = df_train_full.groupby(by='gender').churn.agg(['mean']) # computes the average churn\n",
    "df_group['diff'] = df_group['mean'] - global_mean\n",
    "df_group['risk'] = df_group['mean'] / global_mean\n",
    "\n",
    "df_group"
   ]
  },
  {
   "cell_type": "markdown",
   "id": "7fd52022-2cff-4ee4-9689-6ecb1414bcd4",
   "metadata": {},
   "source": [
    "Let's now do that for all categorical variables"
   ]
  },
  {
   "cell_type": "code",
   "execution_count": 16,
   "id": "8d6a30d7-4b58-4177-80a2-d1aba291625f",
   "metadata": {},
   "outputs": [
    {
     "data": {
      "text/html": [
       "<div>\n",
       "<style scoped>\n",
       "    .dataframe tbody tr th:only-of-type {\n",
       "        vertical-align: middle;\n",
       "    }\n",
       "\n",
       "    .dataframe tbody tr th {\n",
       "        vertical-align: top;\n",
       "    }\n",
       "\n",
       "    .dataframe thead th {\n",
       "        text-align: right;\n",
       "    }\n",
       "</style>\n",
       "<table border=\"1\" class=\"dataframe\">\n",
       "  <thead>\n",
       "    <tr style=\"text-align: right;\">\n",
       "      <th></th>\n",
       "      <th>mean</th>\n",
       "      <th>diff</th>\n",
       "      <th>rate</th>\n",
       "    </tr>\n",
       "    <tr>\n",
       "      <th>gender</th>\n",
       "      <th></th>\n",
       "      <th></th>\n",
       "      <th></th>\n",
       "    </tr>\n",
       "  </thead>\n",
       "  <tbody>\n",
       "    <tr>\n",
       "      <th>female</th>\n",
       "      <td>0.276824</td>\n",
       "      <td>0.006856</td>\n",
       "      <td>1.025396</td>\n",
       "    </tr>\n",
       "    <tr>\n",
       "      <th>male</th>\n",
       "      <td>0.263214</td>\n",
       "      <td>-0.006755</td>\n",
       "      <td>0.974980</td>\n",
       "    </tr>\n",
       "  </tbody>\n",
       "</table>\n",
       "</div>"
      ],
      "text/plain": [
       "            mean      diff      rate\n",
       "gender                              \n",
       "female  0.276824  0.006856  1.025396\n",
       "male    0.263214 -0.006755  0.974980"
      ]
     },
     "metadata": {},
     "output_type": "display_data"
    },
    {
     "data": {
      "text/html": [
       "<div>\n",
       "<style scoped>\n",
       "    .dataframe tbody tr th:only-of-type {\n",
       "        vertical-align: middle;\n",
       "    }\n",
       "\n",
       "    .dataframe tbody tr th {\n",
       "        vertical-align: top;\n",
       "    }\n",
       "\n",
       "    .dataframe thead th {\n",
       "        text-align: right;\n",
       "    }\n",
       "</style>\n",
       "<table border=\"1\" class=\"dataframe\">\n",
       "  <thead>\n",
       "    <tr style=\"text-align: right;\">\n",
       "      <th></th>\n",
       "      <th>mean</th>\n",
       "      <th>diff</th>\n",
       "      <th>rate</th>\n",
       "    </tr>\n",
       "    <tr>\n",
       "      <th>seniorcitizen</th>\n",
       "      <th></th>\n",
       "      <th></th>\n",
       "      <th></th>\n",
       "    </tr>\n",
       "  </thead>\n",
       "  <tbody>\n",
       "    <tr>\n",
       "      <th>0</th>\n",
       "      <td>0.242270</td>\n",
       "      <td>-0.027698</td>\n",
       "      <td>0.897403</td>\n",
       "    </tr>\n",
       "    <tr>\n",
       "      <th>1</th>\n",
       "      <td>0.413377</td>\n",
       "      <td>0.143409</td>\n",
       "      <td>1.531208</td>\n",
       "    </tr>\n",
       "  </tbody>\n",
       "</table>\n",
       "</div>"
      ],
      "text/plain": [
       "                   mean      diff      rate\n",
       "seniorcitizen                              \n",
       "0              0.242270 -0.027698  0.897403\n",
       "1              0.413377  0.143409  1.531208"
      ]
     },
     "metadata": {},
     "output_type": "display_data"
    },
    {
     "data": {
      "text/html": [
       "<div>\n",
       "<style scoped>\n",
       "    .dataframe tbody tr th:only-of-type {\n",
       "        vertical-align: middle;\n",
       "    }\n",
       "\n",
       "    .dataframe tbody tr th {\n",
       "        vertical-align: top;\n",
       "    }\n",
       "\n",
       "    .dataframe thead th {\n",
       "        text-align: right;\n",
       "    }\n",
       "</style>\n",
       "<table border=\"1\" class=\"dataframe\">\n",
       "  <thead>\n",
       "    <tr style=\"text-align: right;\">\n",
       "      <th></th>\n",
       "      <th>mean</th>\n",
       "      <th>diff</th>\n",
       "      <th>rate</th>\n",
       "    </tr>\n",
       "    <tr>\n",
       "      <th>partner</th>\n",
       "      <th></th>\n",
       "      <th></th>\n",
       "      <th></th>\n",
       "    </tr>\n",
       "  </thead>\n",
       "  <tbody>\n",
       "    <tr>\n",
       "      <th>no</th>\n",
       "      <td>0.329809</td>\n",
       "      <td>0.059841</td>\n",
       "      <td>1.221659</td>\n",
       "    </tr>\n",
       "    <tr>\n",
       "      <th>yes</th>\n",
       "      <td>0.205033</td>\n",
       "      <td>-0.064935</td>\n",
       "      <td>0.759472</td>\n",
       "    </tr>\n",
       "  </tbody>\n",
       "</table>\n",
       "</div>"
      ],
      "text/plain": [
       "             mean      diff      rate\n",
       "partner                              \n",
       "no       0.329809  0.059841  1.221659\n",
       "yes      0.205033 -0.064935  0.759472"
      ]
     },
     "metadata": {},
     "output_type": "display_data"
    },
    {
     "data": {
      "text/html": [
       "<div>\n",
       "<style scoped>\n",
       "    .dataframe tbody tr th:only-of-type {\n",
       "        vertical-align: middle;\n",
       "    }\n",
       "\n",
       "    .dataframe tbody tr th {\n",
       "        vertical-align: top;\n",
       "    }\n",
       "\n",
       "    .dataframe thead th {\n",
       "        text-align: right;\n",
       "    }\n",
       "</style>\n",
       "<table border=\"1\" class=\"dataframe\">\n",
       "  <thead>\n",
       "    <tr style=\"text-align: right;\">\n",
       "      <th></th>\n",
       "      <th>mean</th>\n",
       "      <th>diff</th>\n",
       "      <th>rate</th>\n",
       "    </tr>\n",
       "    <tr>\n",
       "      <th>dependents</th>\n",
       "      <th></th>\n",
       "      <th></th>\n",
       "      <th></th>\n",
       "    </tr>\n",
       "  </thead>\n",
       "  <tbody>\n",
       "    <tr>\n",
       "      <th>no</th>\n",
       "      <td>0.313760</td>\n",
       "      <td>0.043792</td>\n",
       "      <td>1.162212</td>\n",
       "    </tr>\n",
       "    <tr>\n",
       "      <th>yes</th>\n",
       "      <td>0.165666</td>\n",
       "      <td>-0.104302</td>\n",
       "      <td>0.613651</td>\n",
       "    </tr>\n",
       "  </tbody>\n",
       "</table>\n",
       "</div>"
      ],
      "text/plain": [
       "                mean      diff      rate\n",
       "dependents                              \n",
       "no          0.313760  0.043792  1.162212\n",
       "yes         0.165666 -0.104302  0.613651"
      ]
     },
     "metadata": {},
     "output_type": "display_data"
    },
    {
     "data": {
      "text/html": [
       "<div>\n",
       "<style scoped>\n",
       "    .dataframe tbody tr th:only-of-type {\n",
       "        vertical-align: middle;\n",
       "    }\n",
       "\n",
       "    .dataframe tbody tr th {\n",
       "        vertical-align: top;\n",
       "    }\n",
       "\n",
       "    .dataframe thead th {\n",
       "        text-align: right;\n",
       "    }\n",
       "</style>\n",
       "<table border=\"1\" class=\"dataframe\">\n",
       "  <thead>\n",
       "    <tr style=\"text-align: right;\">\n",
       "      <th></th>\n",
       "      <th>mean</th>\n",
       "      <th>diff</th>\n",
       "      <th>rate</th>\n",
       "    </tr>\n",
       "    <tr>\n",
       "      <th>phoneservice</th>\n",
       "      <th></th>\n",
       "      <th></th>\n",
       "      <th></th>\n",
       "    </tr>\n",
       "  </thead>\n",
       "  <tbody>\n",
       "    <tr>\n",
       "      <th>no</th>\n",
       "      <td>0.241316</td>\n",
       "      <td>-0.028652</td>\n",
       "      <td>0.893870</td>\n",
       "    </tr>\n",
       "    <tr>\n",
       "      <th>yes</th>\n",
       "      <td>0.273049</td>\n",
       "      <td>0.003081</td>\n",
       "      <td>1.011412</td>\n",
       "    </tr>\n",
       "  </tbody>\n",
       "</table>\n",
       "</div>"
      ],
      "text/plain": [
       "                  mean      diff      rate\n",
       "phoneservice                              \n",
       "no            0.241316 -0.028652  0.893870\n",
       "yes           0.273049  0.003081  1.011412"
      ]
     },
     "metadata": {},
     "output_type": "display_data"
    },
    {
     "data": {
      "text/html": [
       "<div>\n",
       "<style scoped>\n",
       "    .dataframe tbody tr th:only-of-type {\n",
       "        vertical-align: middle;\n",
       "    }\n",
       "\n",
       "    .dataframe tbody tr th {\n",
       "        vertical-align: top;\n",
       "    }\n",
       "\n",
       "    .dataframe thead th {\n",
       "        text-align: right;\n",
       "    }\n",
       "</style>\n",
       "<table border=\"1\" class=\"dataframe\">\n",
       "  <thead>\n",
       "    <tr style=\"text-align: right;\">\n",
       "      <th></th>\n",
       "      <th>mean</th>\n",
       "      <th>diff</th>\n",
       "      <th>rate</th>\n",
       "    </tr>\n",
       "    <tr>\n",
       "      <th>multiplelines</th>\n",
       "      <th></th>\n",
       "      <th></th>\n",
       "      <th></th>\n",
       "    </tr>\n",
       "  </thead>\n",
       "  <tbody>\n",
       "    <tr>\n",
       "      <th>no</th>\n",
       "      <td>0.257407</td>\n",
       "      <td>-0.012561</td>\n",
       "      <td>0.953474</td>\n",
       "    </tr>\n",
       "    <tr>\n",
       "      <th>no_phone_service</th>\n",
       "      <td>0.241316</td>\n",
       "      <td>-0.028652</td>\n",
       "      <td>0.893870</td>\n",
       "    </tr>\n",
       "    <tr>\n",
       "      <th>yes</th>\n",
       "      <td>0.290742</td>\n",
       "      <td>0.020773</td>\n",
       "      <td>1.076948</td>\n",
       "    </tr>\n",
       "  </tbody>\n",
       "</table>\n",
       "</div>"
      ],
      "text/plain": [
       "                      mean      diff      rate\n",
       "multiplelines                                 \n",
       "no                0.257407 -0.012561  0.953474\n",
       "no_phone_service  0.241316 -0.028652  0.893870\n",
       "yes               0.290742  0.020773  1.076948"
      ]
     },
     "metadata": {},
     "output_type": "display_data"
    },
    {
     "data": {
      "text/html": [
       "<div>\n",
       "<style scoped>\n",
       "    .dataframe tbody tr th:only-of-type {\n",
       "        vertical-align: middle;\n",
       "    }\n",
       "\n",
       "    .dataframe tbody tr th {\n",
       "        vertical-align: top;\n",
       "    }\n",
       "\n",
       "    .dataframe thead th {\n",
       "        text-align: right;\n",
       "    }\n",
       "</style>\n",
       "<table border=\"1\" class=\"dataframe\">\n",
       "  <thead>\n",
       "    <tr style=\"text-align: right;\">\n",
       "      <th></th>\n",
       "      <th>mean</th>\n",
       "      <th>diff</th>\n",
       "      <th>rate</th>\n",
       "    </tr>\n",
       "    <tr>\n",
       "      <th>internetservice</th>\n",
       "      <th></th>\n",
       "      <th></th>\n",
       "      <th></th>\n",
       "    </tr>\n",
       "  </thead>\n",
       "  <tbody>\n",
       "    <tr>\n",
       "      <th>dsl</th>\n",
       "      <td>0.192347</td>\n",
       "      <td>-0.077621</td>\n",
       "      <td>0.712482</td>\n",
       "    </tr>\n",
       "    <tr>\n",
       "      <th>fiber_optic</th>\n",
       "      <td>0.425171</td>\n",
       "      <td>0.155203</td>\n",
       "      <td>1.574895</td>\n",
       "    </tr>\n",
       "    <tr>\n",
       "      <th>no</th>\n",
       "      <td>0.077805</td>\n",
       "      <td>-0.192163</td>\n",
       "      <td>0.288201</td>\n",
       "    </tr>\n",
       "  </tbody>\n",
       "</table>\n",
       "</div>"
      ],
      "text/plain": [
       "                     mean      diff      rate\n",
       "internetservice                              \n",
       "dsl              0.192347 -0.077621  0.712482\n",
       "fiber_optic      0.425171  0.155203  1.574895\n",
       "no               0.077805 -0.192163  0.288201"
      ]
     },
     "metadata": {},
     "output_type": "display_data"
    },
    {
     "data": {
      "text/html": [
       "<div>\n",
       "<style scoped>\n",
       "    .dataframe tbody tr th:only-of-type {\n",
       "        vertical-align: middle;\n",
       "    }\n",
       "\n",
       "    .dataframe tbody tr th {\n",
       "        vertical-align: top;\n",
       "    }\n",
       "\n",
       "    .dataframe thead th {\n",
       "        text-align: right;\n",
       "    }\n",
       "</style>\n",
       "<table border=\"1\" class=\"dataframe\">\n",
       "  <thead>\n",
       "    <tr style=\"text-align: right;\">\n",
       "      <th></th>\n",
       "      <th>mean</th>\n",
       "      <th>diff</th>\n",
       "      <th>rate</th>\n",
       "    </tr>\n",
       "    <tr>\n",
       "      <th>onlinesecurity</th>\n",
       "      <th></th>\n",
       "      <th></th>\n",
       "      <th></th>\n",
       "    </tr>\n",
       "  </thead>\n",
       "  <tbody>\n",
       "    <tr>\n",
       "      <th>no</th>\n",
       "      <td>0.420921</td>\n",
       "      <td>0.150953</td>\n",
       "      <td>1.559152</td>\n",
       "    </tr>\n",
       "    <tr>\n",
       "      <th>no_internet_service</th>\n",
       "      <td>0.077805</td>\n",
       "      <td>-0.192163</td>\n",
       "      <td>0.288201</td>\n",
       "    </tr>\n",
       "    <tr>\n",
       "      <th>yes</th>\n",
       "      <td>0.153226</td>\n",
       "      <td>-0.116742</td>\n",
       "      <td>0.567570</td>\n",
       "    </tr>\n",
       "  </tbody>\n",
       "</table>\n",
       "</div>"
      ],
      "text/plain": [
       "                         mean      diff      rate\n",
       "onlinesecurity                                   \n",
       "no                   0.420921  0.150953  1.559152\n",
       "no_internet_service  0.077805 -0.192163  0.288201\n",
       "yes                  0.153226 -0.116742  0.567570"
      ]
     },
     "metadata": {},
     "output_type": "display_data"
    },
    {
     "data": {
      "text/html": [
       "<div>\n",
       "<style scoped>\n",
       "    .dataframe tbody tr th:only-of-type {\n",
       "        vertical-align: middle;\n",
       "    }\n",
       "\n",
       "    .dataframe tbody tr th {\n",
       "        vertical-align: top;\n",
       "    }\n",
       "\n",
       "    .dataframe thead th {\n",
       "        text-align: right;\n",
       "    }\n",
       "</style>\n",
       "<table border=\"1\" class=\"dataframe\">\n",
       "  <thead>\n",
       "    <tr style=\"text-align: right;\">\n",
       "      <th></th>\n",
       "      <th>mean</th>\n",
       "      <th>diff</th>\n",
       "      <th>rate</th>\n",
       "    </tr>\n",
       "    <tr>\n",
       "      <th>onlinebackup</th>\n",
       "      <th></th>\n",
       "      <th></th>\n",
       "      <th></th>\n",
       "    </tr>\n",
       "  </thead>\n",
       "  <tbody>\n",
       "    <tr>\n",
       "      <th>no</th>\n",
       "      <td>0.404323</td>\n",
       "      <td>0.134355</td>\n",
       "      <td>1.497672</td>\n",
       "    </tr>\n",
       "    <tr>\n",
       "      <th>no_internet_service</th>\n",
       "      <td>0.077805</td>\n",
       "      <td>-0.192163</td>\n",
       "      <td>0.288201</td>\n",
       "    </tr>\n",
       "    <tr>\n",
       "      <th>yes</th>\n",
       "      <td>0.217232</td>\n",
       "      <td>-0.052736</td>\n",
       "      <td>0.804660</td>\n",
       "    </tr>\n",
       "  </tbody>\n",
       "</table>\n",
       "</div>"
      ],
      "text/plain": [
       "                         mean      diff      rate\n",
       "onlinebackup                                     \n",
       "no                   0.404323  0.134355  1.497672\n",
       "no_internet_service  0.077805 -0.192163  0.288201\n",
       "yes                  0.217232 -0.052736  0.804660"
      ]
     },
     "metadata": {},
     "output_type": "display_data"
    },
    {
     "data": {
      "text/html": [
       "<div>\n",
       "<style scoped>\n",
       "    .dataframe tbody tr th:only-of-type {\n",
       "        vertical-align: middle;\n",
       "    }\n",
       "\n",
       "    .dataframe tbody tr th {\n",
       "        vertical-align: top;\n",
       "    }\n",
       "\n",
       "    .dataframe thead th {\n",
       "        text-align: right;\n",
       "    }\n",
       "</style>\n",
       "<table border=\"1\" class=\"dataframe\">\n",
       "  <thead>\n",
       "    <tr style=\"text-align: right;\">\n",
       "      <th></th>\n",
       "      <th>mean</th>\n",
       "      <th>diff</th>\n",
       "      <th>rate</th>\n",
       "    </tr>\n",
       "    <tr>\n",
       "      <th>deviceprotection</th>\n",
       "      <th></th>\n",
       "      <th></th>\n",
       "      <th></th>\n",
       "    </tr>\n",
       "  </thead>\n",
       "  <tbody>\n",
       "    <tr>\n",
       "      <th>no</th>\n",
       "      <td>0.395875</td>\n",
       "      <td>0.125907</td>\n",
       "      <td>1.466379</td>\n",
       "    </tr>\n",
       "    <tr>\n",
       "      <th>no_internet_service</th>\n",
       "      <td>0.077805</td>\n",
       "      <td>-0.192163</td>\n",
       "      <td>0.288201</td>\n",
       "    </tr>\n",
       "    <tr>\n",
       "      <th>yes</th>\n",
       "      <td>0.230412</td>\n",
       "      <td>-0.039556</td>\n",
       "      <td>0.853480</td>\n",
       "    </tr>\n",
       "  </tbody>\n",
       "</table>\n",
       "</div>"
      ],
      "text/plain": [
       "                         mean      diff      rate\n",
       "deviceprotection                                 \n",
       "no                   0.395875  0.125907  1.466379\n",
       "no_internet_service  0.077805 -0.192163  0.288201\n",
       "yes                  0.230412 -0.039556  0.853480"
      ]
     },
     "metadata": {},
     "output_type": "display_data"
    },
    {
     "data": {
      "text/html": [
       "<div>\n",
       "<style scoped>\n",
       "    .dataframe tbody tr th:only-of-type {\n",
       "        vertical-align: middle;\n",
       "    }\n",
       "\n",
       "    .dataframe tbody tr th {\n",
       "        vertical-align: top;\n",
       "    }\n",
       "\n",
       "    .dataframe thead th {\n",
       "        text-align: right;\n",
       "    }\n",
       "</style>\n",
       "<table border=\"1\" class=\"dataframe\">\n",
       "  <thead>\n",
       "    <tr style=\"text-align: right;\">\n",
       "      <th></th>\n",
       "      <th>mean</th>\n",
       "      <th>diff</th>\n",
       "      <th>rate</th>\n",
       "    </tr>\n",
       "    <tr>\n",
       "      <th>techsupport</th>\n",
       "      <th></th>\n",
       "      <th></th>\n",
       "      <th></th>\n",
       "    </tr>\n",
       "  </thead>\n",
       "  <tbody>\n",
       "    <tr>\n",
       "      <th>no</th>\n",
       "      <td>0.418914</td>\n",
       "      <td>0.148946</td>\n",
       "      <td>1.551717</td>\n",
       "    </tr>\n",
       "    <tr>\n",
       "      <th>no_internet_service</th>\n",
       "      <td>0.077805</td>\n",
       "      <td>-0.192163</td>\n",
       "      <td>0.288201</td>\n",
       "    </tr>\n",
       "    <tr>\n",
       "      <th>yes</th>\n",
       "      <td>0.159926</td>\n",
       "      <td>-0.110042</td>\n",
       "      <td>0.592390</td>\n",
       "    </tr>\n",
       "  </tbody>\n",
       "</table>\n",
       "</div>"
      ],
      "text/plain": [
       "                         mean      diff      rate\n",
       "techsupport                                      \n",
       "no                   0.418914  0.148946  1.551717\n",
       "no_internet_service  0.077805 -0.192163  0.288201\n",
       "yes                  0.159926 -0.110042  0.592390"
      ]
     },
     "metadata": {},
     "output_type": "display_data"
    },
    {
     "data": {
      "text/html": [
       "<div>\n",
       "<style scoped>\n",
       "    .dataframe tbody tr th:only-of-type {\n",
       "        vertical-align: middle;\n",
       "    }\n",
       "\n",
       "    .dataframe tbody tr th {\n",
       "        vertical-align: top;\n",
       "    }\n",
       "\n",
       "    .dataframe thead th {\n",
       "        text-align: right;\n",
       "    }\n",
       "</style>\n",
       "<table border=\"1\" class=\"dataframe\">\n",
       "  <thead>\n",
       "    <tr style=\"text-align: right;\">\n",
       "      <th></th>\n",
       "      <th>mean</th>\n",
       "      <th>diff</th>\n",
       "      <th>rate</th>\n",
       "    </tr>\n",
       "    <tr>\n",
       "      <th>streamingtv</th>\n",
       "      <th></th>\n",
       "      <th></th>\n",
       "      <th></th>\n",
       "    </tr>\n",
       "  </thead>\n",
       "  <tbody>\n",
       "    <tr>\n",
       "      <th>no</th>\n",
       "      <td>0.342832</td>\n",
       "      <td>0.072864</td>\n",
       "      <td>1.269897</td>\n",
       "    </tr>\n",
       "    <tr>\n",
       "      <th>no_internet_service</th>\n",
       "      <td>0.077805</td>\n",
       "      <td>-0.192163</td>\n",
       "      <td>0.288201</td>\n",
       "    </tr>\n",
       "    <tr>\n",
       "      <th>yes</th>\n",
       "      <td>0.302723</td>\n",
       "      <td>0.032755</td>\n",
       "      <td>1.121328</td>\n",
       "    </tr>\n",
       "  </tbody>\n",
       "</table>\n",
       "</div>"
      ],
      "text/plain": [
       "                         mean      diff      rate\n",
       "streamingtv                                      \n",
       "no                   0.342832  0.072864  1.269897\n",
       "no_internet_service  0.077805 -0.192163  0.288201\n",
       "yes                  0.302723  0.032755  1.121328"
      ]
     },
     "metadata": {},
     "output_type": "display_data"
    },
    {
     "data": {
      "text/html": [
       "<div>\n",
       "<style scoped>\n",
       "    .dataframe tbody tr th:only-of-type {\n",
       "        vertical-align: middle;\n",
       "    }\n",
       "\n",
       "    .dataframe tbody tr th {\n",
       "        vertical-align: top;\n",
       "    }\n",
       "\n",
       "    .dataframe thead th {\n",
       "        text-align: right;\n",
       "    }\n",
       "</style>\n",
       "<table border=\"1\" class=\"dataframe\">\n",
       "  <thead>\n",
       "    <tr style=\"text-align: right;\">\n",
       "      <th></th>\n",
       "      <th>mean</th>\n",
       "      <th>diff</th>\n",
       "      <th>rate</th>\n",
       "    </tr>\n",
       "    <tr>\n",
       "      <th>streamingmovies</th>\n",
       "      <th></th>\n",
       "      <th></th>\n",
       "      <th></th>\n",
       "    </tr>\n",
       "  </thead>\n",
       "  <tbody>\n",
       "    <tr>\n",
       "      <th>no</th>\n",
       "      <td>0.338906</td>\n",
       "      <td>0.068938</td>\n",
       "      <td>1.255358</td>\n",
       "    </tr>\n",
       "    <tr>\n",
       "      <th>no_internet_service</th>\n",
       "      <td>0.077805</td>\n",
       "      <td>-0.192163</td>\n",
       "      <td>0.288201</td>\n",
       "    </tr>\n",
       "    <tr>\n",
       "      <th>yes</th>\n",
       "      <td>0.307273</td>\n",
       "      <td>0.037305</td>\n",
       "      <td>1.138182</td>\n",
       "    </tr>\n",
       "  </tbody>\n",
       "</table>\n",
       "</div>"
      ],
      "text/plain": [
       "                         mean      diff      rate\n",
       "streamingmovies                                  \n",
       "no                   0.338906  0.068938  1.255358\n",
       "no_internet_service  0.077805 -0.192163  0.288201\n",
       "yes                  0.307273  0.037305  1.138182"
      ]
     },
     "metadata": {},
     "output_type": "display_data"
    },
    {
     "data": {
      "text/html": [
       "<div>\n",
       "<style scoped>\n",
       "    .dataframe tbody tr th:only-of-type {\n",
       "        vertical-align: middle;\n",
       "    }\n",
       "\n",
       "    .dataframe tbody tr th {\n",
       "        vertical-align: top;\n",
       "    }\n",
       "\n",
       "    .dataframe thead th {\n",
       "        text-align: right;\n",
       "    }\n",
       "</style>\n",
       "<table border=\"1\" class=\"dataframe\">\n",
       "  <thead>\n",
       "    <tr style=\"text-align: right;\">\n",
       "      <th></th>\n",
       "      <th>mean</th>\n",
       "      <th>diff</th>\n",
       "      <th>rate</th>\n",
       "    </tr>\n",
       "    <tr>\n",
       "      <th>contract</th>\n",
       "      <th></th>\n",
       "      <th></th>\n",
       "      <th></th>\n",
       "    </tr>\n",
       "  </thead>\n",
       "  <tbody>\n",
       "    <tr>\n",
       "      <th>month-to-month</th>\n",
       "      <td>0.431701</td>\n",
       "      <td>0.161733</td>\n",
       "      <td>1.599082</td>\n",
       "    </tr>\n",
       "    <tr>\n",
       "      <th>one_year</th>\n",
       "      <td>0.120573</td>\n",
       "      <td>-0.149395</td>\n",
       "      <td>0.446621</td>\n",
       "    </tr>\n",
       "    <tr>\n",
       "      <th>two_year</th>\n",
       "      <td>0.028274</td>\n",
       "      <td>-0.241694</td>\n",
       "      <td>0.104730</td>\n",
       "    </tr>\n",
       "  </tbody>\n",
       "</table>\n",
       "</div>"
      ],
      "text/plain": [
       "                    mean      diff      rate\n",
       "contract                                    \n",
       "month-to-month  0.431701  0.161733  1.599082\n",
       "one_year        0.120573 -0.149395  0.446621\n",
       "two_year        0.028274 -0.241694  0.104730"
      ]
     },
     "metadata": {},
     "output_type": "display_data"
    },
    {
     "data": {
      "text/html": [
       "<div>\n",
       "<style scoped>\n",
       "    .dataframe tbody tr th:only-of-type {\n",
       "        vertical-align: middle;\n",
       "    }\n",
       "\n",
       "    .dataframe tbody tr th {\n",
       "        vertical-align: top;\n",
       "    }\n",
       "\n",
       "    .dataframe thead th {\n",
       "        text-align: right;\n",
       "    }\n",
       "</style>\n",
       "<table border=\"1\" class=\"dataframe\">\n",
       "  <thead>\n",
       "    <tr style=\"text-align: right;\">\n",
       "      <th></th>\n",
       "      <th>mean</th>\n",
       "      <th>diff</th>\n",
       "      <th>rate</th>\n",
       "    </tr>\n",
       "    <tr>\n",
       "      <th>paperlessbilling</th>\n",
       "      <th></th>\n",
       "      <th></th>\n",
       "      <th></th>\n",
       "    </tr>\n",
       "  </thead>\n",
       "  <tbody>\n",
       "    <tr>\n",
       "      <th>no</th>\n",
       "      <td>0.172071</td>\n",
       "      <td>-0.097897</td>\n",
       "      <td>0.637375</td>\n",
       "    </tr>\n",
       "    <tr>\n",
       "      <th>yes</th>\n",
       "      <td>0.338151</td>\n",
       "      <td>0.068183</td>\n",
       "      <td>1.252560</td>\n",
       "    </tr>\n",
       "  </tbody>\n",
       "</table>\n",
       "</div>"
      ],
      "text/plain": [
       "                      mean      diff      rate\n",
       "paperlessbilling                              \n",
       "no                0.172071 -0.097897  0.637375\n",
       "yes               0.338151  0.068183  1.252560"
      ]
     },
     "metadata": {},
     "output_type": "display_data"
    },
    {
     "data": {
      "text/html": [
       "<div>\n",
       "<style scoped>\n",
       "    .dataframe tbody tr th:only-of-type {\n",
       "        vertical-align: middle;\n",
       "    }\n",
       "\n",
       "    .dataframe tbody tr th {\n",
       "        vertical-align: top;\n",
       "    }\n",
       "\n",
       "    .dataframe thead th {\n",
       "        text-align: right;\n",
       "    }\n",
       "</style>\n",
       "<table border=\"1\" class=\"dataframe\">\n",
       "  <thead>\n",
       "    <tr style=\"text-align: right;\">\n",
       "      <th></th>\n",
       "      <th>mean</th>\n",
       "      <th>diff</th>\n",
       "      <th>rate</th>\n",
       "    </tr>\n",
       "    <tr>\n",
       "      <th>paymentmethod</th>\n",
       "      <th></th>\n",
       "      <th></th>\n",
       "      <th></th>\n",
       "    </tr>\n",
       "  </thead>\n",
       "  <tbody>\n",
       "    <tr>\n",
       "      <th>bank_transfer_(automatic)</th>\n",
       "      <td>0.168171</td>\n",
       "      <td>-0.101797</td>\n",
       "      <td>0.622928</td>\n",
       "    </tr>\n",
       "    <tr>\n",
       "      <th>credit_card_(automatic)</th>\n",
       "      <td>0.164339</td>\n",
       "      <td>-0.105630</td>\n",
       "      <td>0.608733</td>\n",
       "    </tr>\n",
       "    <tr>\n",
       "      <th>electronic_check</th>\n",
       "      <td>0.455890</td>\n",
       "      <td>0.185922</td>\n",
       "      <td>1.688682</td>\n",
       "    </tr>\n",
       "    <tr>\n",
       "      <th>mailed_check</th>\n",
       "      <td>0.193870</td>\n",
       "      <td>-0.076098</td>\n",
       "      <td>0.718121</td>\n",
       "    </tr>\n",
       "  </tbody>\n",
       "</table>\n",
       "</div>"
      ],
      "text/plain": [
       "                               mean      diff      rate\n",
       "paymentmethod                                          \n",
       "bank_transfer_(automatic)  0.168171 -0.101797  0.622928\n",
       "credit_card_(automatic)    0.164339 -0.105630  0.608733\n",
       "electronic_check           0.455890  0.185922  1.688682\n",
       "mailed_check               0.193870 -0.076098  0.718121"
      ]
     },
     "metadata": {},
     "output_type": "display_data"
    }
   ],
   "source": [
    "for col in categorical:\n",
    "    df_group = df_train_full.groupby(by=col).churn.agg(['mean'])\n",
    "    df_group['diff'] = df_group['mean'] - global_mean\n",
    "    df_group['rate'] = df_group['mean'] / global_mean\n",
    "    display(df_group) # to render a dataframe inside the loop"
   ]
  },
  {
   "cell_type": "markdown",
   "id": "6dde330b-7c0e-4e37-b352-0f39b2331cec",
   "metadata": {},
   "source": [
    "## Mutual Information"
   ]
  },
  {
   "cell_type": "code",
   "execution_count": 17,
   "id": "c782d574-e94b-4553-ae8d-6f4eab911460",
   "metadata": {},
   "outputs": [
    {
     "data": {
      "text/html": [
       "<div>\n",
       "<style scoped>\n",
       "    .dataframe tbody tr th:only-of-type {\n",
       "        vertical-align: middle;\n",
       "    }\n",
       "\n",
       "    .dataframe tbody tr th {\n",
       "        vertical-align: top;\n",
       "    }\n",
       "\n",
       "    .dataframe thead th {\n",
       "        text-align: right;\n",
       "    }\n",
       "</style>\n",
       "<table border=\"1\" class=\"dataframe\">\n",
       "  <thead>\n",
       "    <tr style=\"text-align: right;\">\n",
       "      <th></th>\n",
       "      <th>MI</th>\n",
       "    </tr>\n",
       "  </thead>\n",
       "  <tbody>\n",
       "    <tr>\n",
       "      <th>contract</th>\n",
       "      <td>0.098320</td>\n",
       "    </tr>\n",
       "    <tr>\n",
       "      <th>onlinesecurity</th>\n",
       "      <td>0.063085</td>\n",
       "    </tr>\n",
       "    <tr>\n",
       "      <th>techsupport</th>\n",
       "      <td>0.061032</td>\n",
       "    </tr>\n",
       "    <tr>\n",
       "      <th>internetservice</th>\n",
       "      <td>0.055868</td>\n",
       "    </tr>\n",
       "    <tr>\n",
       "      <th>onlinebackup</th>\n",
       "      <td>0.046923</td>\n",
       "    </tr>\n",
       "    <tr>\n",
       "      <th>deviceprotection</th>\n",
       "      <td>0.043453</td>\n",
       "    </tr>\n",
       "    <tr>\n",
       "      <th>paymentmethod</th>\n",
       "      <td>0.043210</td>\n",
       "    </tr>\n",
       "    <tr>\n",
       "      <th>streamingtv</th>\n",
       "      <td>0.031853</td>\n",
       "    </tr>\n",
       "    <tr>\n",
       "      <th>streamingmovies</th>\n",
       "      <td>0.031581</td>\n",
       "    </tr>\n",
       "    <tr>\n",
       "      <th>paperlessbilling</th>\n",
       "      <td>0.017589</td>\n",
       "    </tr>\n",
       "    <tr>\n",
       "      <th>dependents</th>\n",
       "      <td>0.012346</td>\n",
       "    </tr>\n",
       "    <tr>\n",
       "      <th>partner</th>\n",
       "      <td>0.009968</td>\n",
       "    </tr>\n",
       "    <tr>\n",
       "      <th>seniorcitizen</th>\n",
       "      <td>0.009410</td>\n",
       "    </tr>\n",
       "    <tr>\n",
       "      <th>multiplelines</th>\n",
       "      <td>0.000857</td>\n",
       "    </tr>\n",
       "    <tr>\n",
       "      <th>phoneservice</th>\n",
       "      <td>0.000229</td>\n",
       "    </tr>\n",
       "    <tr>\n",
       "      <th>gender</th>\n",
       "      <td>0.000117</td>\n",
       "    </tr>\n",
       "  </tbody>\n",
       "</table>\n",
       "</div>"
      ],
      "text/plain": [
       "                        MI\n",
       "contract          0.098320\n",
       "onlinesecurity    0.063085\n",
       "techsupport       0.061032\n",
       "internetservice   0.055868\n",
       "onlinebackup      0.046923\n",
       "deviceprotection  0.043453\n",
       "paymentmethod     0.043210\n",
       "streamingtv       0.031853\n",
       "streamingmovies   0.031581\n",
       "paperlessbilling  0.017589\n",
       "dependents        0.012346\n",
       "partner           0.009968\n",
       "seniorcitizen     0.009410\n",
       "multiplelines     0.000857\n",
       "phoneservice      0.000229\n",
       "gender            0.000117"
      ]
     },
     "execution_count": 17,
     "metadata": {},
     "output_type": "execute_result"
    }
   ],
   "source": [
    "def calculate_mi(series):\n",
    "    return mutual_info_score(series, df_train_full.churn)\n",
    "\n",
    "df_mi = df_train_full[categorical].apply(calculate_mi)\n",
    "df_mi = df_mi.sort_values(ascending=False).to_frame(name='MI')\n",
    "\n",
    "df_mi"
   ]
  },
  {
   "cell_type": "markdown",
   "id": "49f473da-3a6c-4f24-a558-63b64f54af2d",
   "metadata": {},
   "source": [
    "## Correlation Coefficient"
   ]
  },
  {
   "cell_type": "code",
   "execution_count": 18,
   "id": "533ea46b-89f9-4cc1-8ffd-c37948ace7cf",
   "metadata": {},
   "outputs": [
    {
     "data": {
      "text/plain": [
       "tenure           -0.351885\n",
       "monthlycharges    0.196805\n",
       "totalcharges     -0.196353\n",
       "dtype: float64"
      ]
     },
     "execution_count": 18,
     "metadata": {},
     "output_type": "execute_result"
    }
   ],
   "source": [
    "df_train_full[numerical].corrwith(df_train_full.churn)"
   ]
  },
  {
   "cell_type": "markdown",
   "id": "e5462e8c-16fb-47c5-9edf-66c8f6d6f11e",
   "metadata": {},
   "source": [
    "## Feature engineering"
   ]
  },
  {
   "cell_type": "markdown",
   "id": "cd02e5eb-ad52-4029-affe-dcc9ffd0221e",
   "metadata": {},
   "source": [
    "### One-hot encoding for categorical variables"
   ]
  },
  {
   "cell_type": "code",
   "execution_count": 19,
   "id": "06dc8b23-5abb-454e-a494-dfed455c122c",
   "metadata": {},
   "outputs": [],
   "source": [
    "train_dict = df_train[categorical + numerical].to_dict(orient='records')"
   ]
  },
  {
   "cell_type": "code",
   "execution_count": 20,
   "id": "aabf9e3c-b1bd-48e7-bd41-a6e73614f00c",
   "metadata": {},
   "outputs": [
    {
     "data": {
      "text/plain": [
       "DictVectorizer(sparse=False)"
      ]
     },
     "execution_count": 20,
     "metadata": {},
     "output_type": "execute_result"
    }
   ],
   "source": [
    "dv = DictVectorizer(sparse=False)\n",
    "dv.fit(train_dict)"
   ]
  },
  {
   "cell_type": "code",
   "execution_count": 21,
   "id": "26b558e5-0d8d-4ae0-b0bd-93d7051626fd",
   "metadata": {},
   "outputs": [
    {
     "data": {
      "text/plain": [
       "array([0.0000e+00, 0.0000e+00, 1.0000e+00, 1.0000e+00, 0.0000e+00,\n",
       "       0.0000e+00, 0.0000e+00, 1.0000e+00, 0.0000e+00, 1.0000e+00,\n",
       "       1.0000e+00, 0.0000e+00, 0.0000e+00, 8.6100e+01, 1.0000e+00,\n",
       "       0.0000e+00, 0.0000e+00, 0.0000e+00, 0.0000e+00, 1.0000e+00,\n",
       "       0.0000e+00, 0.0000e+00, 1.0000e+00, 0.0000e+00, 1.0000e+00,\n",
       "       0.0000e+00, 1.0000e+00, 1.0000e+00, 0.0000e+00, 0.0000e+00,\n",
       "       0.0000e+00, 0.0000e+00, 1.0000e+00, 0.0000e+00, 0.0000e+00,\n",
       "       0.0000e+00, 1.0000e+00, 0.0000e+00, 0.0000e+00, 1.0000e+00,\n",
       "       0.0000e+00, 0.0000e+00, 1.0000e+00, 7.1000e+01, 6.0459e+03])"
      ]
     },
     "execution_count": 21,
     "metadata": {},
     "output_type": "execute_result"
    }
   ],
   "source": [
    "X_train = dv.transform(train_dict)\n",
    "\n",
    "X_train[0]"
   ]
  },
  {
   "cell_type": "code",
   "execution_count": 22,
   "id": "d5cbf8cd-4203-4d85-a09c-1ecf2d11d123",
   "metadata": {},
   "outputs": [
    {
     "data": {
      "text/plain": [
       "array(['contract=month-to-month', 'contract=one_year',\n",
       "       'contract=two_year', 'dependents=no', 'dependents=yes',\n",
       "       'deviceprotection=no', 'deviceprotection=no_internet_service',\n",
       "       'deviceprotection=yes', 'gender=female', 'gender=male',\n",
       "       'internetservice=dsl', 'internetservice=fiber_optic',\n",
       "       'internetservice=no', 'monthlycharges', 'multiplelines=no',\n",
       "       'multiplelines=no_phone_service', 'multiplelines=yes',\n",
       "       'onlinebackup=no', 'onlinebackup=no_internet_service',\n",
       "       'onlinebackup=yes', 'onlinesecurity=no',\n",
       "       'onlinesecurity=no_internet_service', 'onlinesecurity=yes',\n",
       "       'paperlessbilling=no', 'paperlessbilling=yes', 'partner=no',\n",
       "       'partner=yes', 'paymentmethod=bank_transfer_(automatic)',\n",
       "       'paymentmethod=credit_card_(automatic)',\n",
       "       'paymentmethod=electronic_check', 'paymentmethod=mailed_check',\n",
       "       'phoneservice=no', 'phoneservice=yes', 'seniorcitizen',\n",
       "       'streamingmovies=no', 'streamingmovies=no_internet_service',\n",
       "       'streamingmovies=yes', 'streamingtv=no',\n",
       "       'streamingtv=no_internet_service', 'streamingtv=yes',\n",
       "       'techsupport=no', 'techsupport=no_internet_service',\n",
       "       'techsupport=yes', 'tenure', 'totalcharges'], dtype=object)"
      ]
     },
     "execution_count": 22,
     "metadata": {},
     "output_type": "execute_result"
    }
   ],
   "source": [
    "dv.get_feature_names_out()"
   ]
  },
  {
   "cell_type": "markdown",
   "id": "777c4228-bc12-436e-8df6-bf4d1336a13f",
   "metadata": {},
   "source": [
    "## ML for classification"
   ]
  },
  {
   "cell_type": "markdown",
   "id": "e9be3253-5b6e-48ce-b838-d3ed46ed9bd7",
   "metadata": {},
   "source": [
    "### Logistic Regression"
   ]
  },
  {
   "cell_type": "code",
   "execution_count": 23,
   "id": "b21aad91-96e3-4acd-aba5-bca0f4692409",
   "metadata": {},
   "outputs": [
    {
     "data": {
      "text/plain": [
       "LogisticRegression(random_state=1, solver='liblinear')"
      ]
     },
     "execution_count": 23,
     "metadata": {},
     "output_type": "execute_result"
    }
   ],
   "source": [
    "model = LogisticRegression(solver='liblinear', random_state=1)\n",
    "model.fit(X_train, y_train)"
   ]
  },
  {
   "cell_type": "code",
   "execution_count": 24,
   "id": "0aa3937b-ad55-485f-a486-14e1a42156fe",
   "metadata": {},
   "outputs": [],
   "source": [
    "val_dict = df_val[categorical + numerical].to_dict(orient='records')\n",
    "X_val = dv.transform(val_dict)"
   ]
  },
  {
   "cell_type": "code",
   "execution_count": 25,
   "id": "4314b006-0b38-4a40-bb75-6c577eacc60c",
   "metadata": {},
   "outputs": [
    {
     "data": {
      "text/plain": [
       "array([[0.76509544, 0.23490456],\n",
       "       [0.73115212, 0.26884788],\n",
       "       [0.680551  , 0.319449  ],\n",
       "       ...,\n",
       "       [0.94275194, 0.05724806],\n",
       "       [0.38477284, 0.61522716],\n",
       "       [0.93872722, 0.06127278]])"
      ]
     },
     "execution_count": 25,
     "metadata": {},
     "output_type": "execute_result"
    }
   ],
   "source": [
    "y_pred = model.predict_proba(X_val)\n",
    "\n",
    "model.predict_proba(X_val)"
   ]
  },
  {
   "cell_type": "code",
   "execution_count": 26,
   "id": "53fcd607-600b-4e86-9d0f-4111dd7d11fb",
   "metadata": {},
   "outputs": [
    {
     "data": {
      "text/plain": [
       "array([0.23490456, 0.26884788, 0.319449  , ..., 0.05724806, 0.61522716,\n",
       "       0.06127278])"
      ]
     },
     "execution_count": 26,
     "metadata": {},
     "output_type": "execute_result"
    }
   ],
   "source": [
    "y_pred = model.predict_proba(X_val)[:,1]\n",
    "\n",
    "y_pred"
   ]
  },
  {
   "cell_type": "code",
   "execution_count": 27,
   "id": "0fdc6d28-fae9-4828-a29c-3982090bfb6b",
   "metadata": {},
   "outputs": [],
   "source": [
    "churn = y_pred >= 0.5"
   ]
  },
  {
   "cell_type": "code",
   "execution_count": 28,
   "id": "6dd33bde-af12-4451-a586-288409766407",
   "metadata": {},
   "outputs": [
    {
     "data": {
      "text/plain": [
       "0.8016129032258065"
      ]
     },
     "execution_count": 28,
     "metadata": {},
     "output_type": "execute_result"
    }
   ],
   "source": [
    "(y_val == churn).mean() # calculate accuracy"
   ]
  },
  {
   "cell_type": "markdown",
   "id": "5b3847ad-d048-4aee-8a6c-9a17c5005224",
   "metadata": {},
   "source": [
    "## Model Interpretation"
   ]
  },
  {
   "cell_type": "markdown",
   "id": "e1991466-b8a1-4b95-9325-46aee95199c0",
   "metadata": {},
   "source": [
    "GEt the bias"
   ]
  },
  {
   "cell_type": "code",
   "execution_count": 29,
   "id": "a8d90066-eb66-4582-ac1b-e8789d9a459f",
   "metadata": {},
   "outputs": [
    {
     "data": {
      "text/plain": [
       "-0.12198806745062483"
      ]
     },
     "execution_count": 29,
     "metadata": {},
     "output_type": "execute_result"
    }
   ],
   "source": [
    "model.intercept_[0]"
   ]
  },
  {
   "cell_type": "markdown",
   "id": "bedb6c82-49de-4991-a94c-d316156c1b89",
   "metadata": {},
   "source": [
    "which feature is associated with each weight"
   ]
  },
  {
   "cell_type": "code",
   "execution_count": 30,
   "id": "aec032b6-c5b7-4bc5-9285-3e5acbfb2a07",
   "metadata": {},
   "outputs": [
    {
     "data": {
      "text/plain": [
       "{'contract=month-to-month': 0.563,\n",
       " 'contract=one_year': -0.086,\n",
       " 'contract=two_year': -0.599,\n",
       " 'dependents=no': -0.03,\n",
       " 'dependents=yes': -0.092,\n",
       " 'deviceprotection=no': 0.1,\n",
       " 'deviceprotection=no_internet_service': -0.116,\n",
       " 'deviceprotection=yes': -0.106,\n",
       " 'gender=female': -0.027,\n",
       " 'gender=male': -0.095,\n",
       " 'internetservice=dsl': -0.323,\n",
       " 'internetservice=fiber_optic': 0.317,\n",
       " 'internetservice=no': -0.116,\n",
       " 'monthlycharges': 0.001,\n",
       " 'multiplelines=no': -0.168,\n",
       " 'multiplelines=no_phone_service': 0.127,\n",
       " 'multiplelines=yes': -0.081,\n",
       " 'onlinebackup=no': 0.136,\n",
       " 'onlinebackup=no_internet_service': -0.116,\n",
       " 'onlinebackup=yes': -0.142,\n",
       " 'onlinesecurity=no': 0.258,\n",
       " 'onlinesecurity=no_internet_service': -0.116,\n",
       " 'onlinesecurity=yes': -0.264,\n",
       " 'paperlessbilling=no': -0.213,\n",
       " 'paperlessbilling=yes': 0.091,\n",
       " 'partner=no': -0.048,\n",
       " 'partner=yes': -0.074,\n",
       " 'paymentmethod=bank_transfer_(automatic)': -0.027,\n",
       " 'paymentmethod=credit_card_(automatic)': -0.136,\n",
       " 'paymentmethod=electronic_check': 0.175,\n",
       " 'paymentmethod=mailed_check': -0.134,\n",
       " 'phoneservice=no': 0.127,\n",
       " 'phoneservice=yes': -0.249,\n",
       " 'seniorcitizen': 0.297,\n",
       " 'streamingmovies=no': -0.085,\n",
       " 'streamingmovies=no_internet_service': -0.116,\n",
       " 'streamingmovies=yes': 0.079,\n",
       " 'streamingtv=no': -0.099,\n",
       " 'streamingtv=no_internet_service': -0.116,\n",
       " 'streamingtv=yes': 0.093,\n",
       " 'techsupport=no': 0.178,\n",
       " 'techsupport=no_internet_service': -0.116,\n",
       " 'techsupport=yes': -0.184,\n",
       " 'tenure': -0.069,\n",
       " 'totalcharges': 0.0}"
      ]
     },
     "execution_count": 30,
     "metadata": {},
     "output_type": "execute_result"
    }
   ],
   "source": [
    "dict(zip(dv.get_feature_names_out(), model.coef_[0].round(3)))"
   ]
  },
  {
   "cell_type": "markdown",
   "id": "80323ed0-d0db-4243-90de-ba39e527d48d",
   "metadata": {},
   "source": [
    "Let's train a simpler and smaller model that uses only three variables _contract, tenure and total charges_  \n",
    "To use contract, we need to apply one-hot encoding "
   ]
  },
  {
   "cell_type": "code",
   "execution_count": 31,
   "id": "8e5858c9-ca79-4e84-8b3a-1a6061d52b1a",
   "metadata": {},
   "outputs": [],
   "source": [
    "small_subset = ['contract', 'tenure', 'totalcharges']\n",
    "\n",
    "train_dict_small = df_train[small_subset].to_dict(orient='records')\n",
    "dv_small = DictVectorizer(sparse=False)\n",
    "dv_small.fit(train_dict_small)\n",
    "\n",
    "X_small_train = dv_small.transform(train_dict_small)"
   ]
  },
  {
   "cell_type": "code",
   "execution_count": 32,
   "id": "81c97eab-9168-41fc-a587-c784809fa2bb",
   "metadata": {},
   "outputs": [
    {
     "data": {
      "text/plain": [
       "array(['contract=month-to-month', 'contract=one_year',\n",
       "       'contract=two_year', 'tenure', 'totalcharges'], dtype=object)"
      ]
     },
     "execution_count": 32,
     "metadata": {},
     "output_type": "execute_result"
    }
   ],
   "source": [
    "dv_small.get_feature_names_out()"
   ]
  },
  {
   "cell_type": "markdown",
   "id": "7ca70e39-0c78-44d3-b608-90d1fdafccbc",
   "metadata": {},
   "source": [
    "Let's train the small model on this set of features:"
   ]
  },
  {
   "cell_type": "code",
   "execution_count": 33,
   "id": "9f60c64e-3789-46d4-a9cc-5387fbf65a98",
   "metadata": {},
   "outputs": [
    {
     "data": {
      "text/plain": [
       "LogisticRegression(random_state=1, solver='liblinear')"
      ]
     },
     "execution_count": 33,
     "metadata": {},
     "output_type": "execute_result"
    }
   ],
   "source": [
    "model_small = LogisticRegression(solver='liblinear', random_state=1)\n",
    "model_small.fit(X_small_train, y_train)"
   ]
  },
  {
   "cell_type": "markdown",
   "id": "c918c8b2-7493-4f2f-b893-785c39635f38",
   "metadata": {},
   "source": [
    "Let's first check the bias term"
   ]
  },
  {
   "cell_type": "code",
   "execution_count": 34,
   "id": "a7dfd343-b82a-4ae5-b279-16e410858d57",
   "metadata": {},
   "outputs": [
    {
     "data": {
      "text/plain": [
       "-0.5772299128645278"
      ]
     },
     "execution_count": 34,
     "metadata": {},
     "output_type": "execute_result"
    }
   ],
   "source": [
    "model_small.intercept_[0]"
   ]
  },
  {
   "cell_type": "code",
   "execution_count": 35,
   "id": "d5632b94-63bf-4e8e-a0e1-669f5ba32938",
   "metadata": {},
   "outputs": [
    {
     "data": {
      "text/plain": [
       "{'contract=month-to-month': 0.563,\n",
       " 'contract=one_year': -0.086,\n",
       " 'contract=two_year': -0.599,\n",
       " 'tenure': -0.03,\n",
       " 'totalcharges': -0.092}"
      ]
     },
     "execution_count": 35,
     "metadata": {},
     "output_type": "execute_result"
    }
   ],
   "source": [
    "dict(zip(dv_small.get_feature_names_out(), model.coef_[0].round(3)))"
   ]
  },
  {
   "cell_type": "markdown",
   "id": "5a85d0f6-c16f-4553-b97b-2020e8b6c80d",
   "metadata": {},
   "source": [
    "## Using the model"
   ]
  },
  {
   "cell_type": "code",
   "execution_count": 36,
   "id": "7cb71b08-6fe7-4857-8dc0-b4139137ffa8",
   "metadata": {},
   "outputs": [],
   "source": [
    "customer = {\n",
    "    'customerid': '8879-zkjof',\n",
    "    'gender': 'female',\n",
    "    'seniorcitizen': 0,\n",
    "    'partner': 'no',\n",
    "    'dependents': 'no',\n",
    "    'tenure': 41,\n",
    "    'phoneservice': 'yes',\n",
    "    'multiplelines': 'no',\n",
    "    'internetservice': 'dsl',\n",
    "    'onlinesecurity': 'yes',\n",
    "    'onlinebackup': 'no',\n",
    "    'deviceprotection': 'yes',\n",
    "    'techsupport': 'yes',\n",
    "    'streamingtv': 'yes',\n",
    "    'streamingmovies': 'yes',\n",
    "    'contract': 'one_year',\n",
    "    'paperlessbilling': 'yes',\n",
    "    'paymentmethod': 'bank_transfer_(automatic)',\n",
    "    'monthlycharges': 79.85,\n",
    "    'totalcharges': 3320.75,\n",
    "}"
   ]
  },
  {
   "cell_type": "code",
   "execution_count": 37,
   "id": "c0b78b86-addc-4240-8c86-e667609a5265",
   "metadata": {},
   "outputs": [
    {
     "data": {
      "text/plain": [
       "array([[0.00000e+00, 1.00000e+00, 0.00000e+00, 1.00000e+00, 0.00000e+00,\n",
       "        0.00000e+00, 0.00000e+00, 1.00000e+00, 1.00000e+00, 0.00000e+00,\n",
       "        1.00000e+00, 0.00000e+00, 0.00000e+00, 7.98500e+01, 1.00000e+00,\n",
       "        0.00000e+00, 0.00000e+00, 1.00000e+00, 0.00000e+00, 0.00000e+00,\n",
       "        0.00000e+00, 0.00000e+00, 1.00000e+00, 0.00000e+00, 1.00000e+00,\n",
       "        1.00000e+00, 0.00000e+00, 1.00000e+00, 0.00000e+00, 0.00000e+00,\n",
       "        0.00000e+00, 0.00000e+00, 1.00000e+00, 0.00000e+00, 0.00000e+00,\n",
       "        0.00000e+00, 1.00000e+00, 0.00000e+00, 0.00000e+00, 1.00000e+00,\n",
       "        0.00000e+00, 0.00000e+00, 1.00000e+00, 4.10000e+01, 3.32075e+03]])"
      ]
     },
     "execution_count": 37,
     "metadata": {},
     "output_type": "execute_result"
    }
   ],
   "source": [
    "X_test = dv.transform([customer])\n",
    "\n",
    "X_test"
   ]
  },
  {
   "cell_type": "code",
   "execution_count": 38,
   "id": "4e2c8faa-966a-430b-a8e5-4ce757ebe420",
   "metadata": {},
   "outputs": [
    {
     "data": {
      "text/plain": [
       "array([[0.92667376, 0.07332624]])"
      ]
     },
     "execution_count": 38,
     "metadata": {},
     "output_type": "execute_result"
    }
   ],
   "source": [
    "model.predict_proba(X_test)"
   ]
  },
  {
   "cell_type": "markdown",
   "id": "01ca97b0-6b33-4ec3-841e-cd9b5dc80b3a",
   "metadata": {},
   "source": [
    "Let's try another client"
   ]
  },
  {
   "cell_type": "code",
   "execution_count": 39,
   "id": "1f8d70d8-949b-4dfb-af6c-7b68c30daa0e",
   "metadata": {},
   "outputs": [],
   "source": [
    "customer = {\n",
    "    'gender': 'female',\n",
    "    'seniorcitizen': 1,\n",
    "    'partner': 'no',\n",
    "    'dependents': 'no',\n",
    "    'phoneservice': 'yes',\n",
    "    'multiplelines': 'yes',\n",
    "    'internetservice': 'fiber_optic',\n",
    "    'onlinesecurity': 'no',\n",
    "    'onlinebackup': 'no',\n",
    "    'deviceprotection': 'no',\n",
    "    'techsupport': 'no',\n",
    "    'streamingtv': 'yes',\n",
    "    'streamingmovies': 'no',\n",
    "    'contract': 'month-to-month',\n",
    "    'paperlessbilling': 'yes',\n",
    "    'paymentmethod': 'electronic_check',\n",
    "    'tenure': 1,\n",
    "    'monthlycharges': 85.7,\n",
    "    'totalcharges': 85.7\n",
    "}"
   ]
  },
  {
   "cell_type": "code",
   "execution_count": 40,
   "id": "698a0199-275c-4698-9a7b-ac76724b2c96",
   "metadata": {},
   "outputs": [
    {
     "data": {
      "text/plain": [
       "0.832163753426764"
      ]
     },
     "execution_count": 40,
     "metadata": {},
     "output_type": "execute_result"
    }
   ],
   "source": [
    "X_test = dv.transform([customer])\n",
    "\n",
    "model.predict_proba(X_test)[0,1]"
   ]
  },
  {
   "cell_type": "markdown",
   "id": "a6f72037-05fe-4890-a173-7389d3b26d25",
   "metadata": {},
   "source": [
    "# Evaluating Metrics"
   ]
  },
  {
   "cell_type": "markdown",
   "id": "54681b9a-1bf8-4e04-92da-ff74af903b6b",
   "metadata": {},
   "source": [
    "## Accuracy"
   ]
  },
  {
   "cell_type": "code",
   "execution_count": 41,
   "id": "91268562-2d63-4c3e-8444-0d7ea8ceebdb",
   "metadata": {},
   "outputs": [
    {
     "data": {
      "text/plain": [
       "0.8016129032258065"
      ]
     },
     "execution_count": 41,
     "metadata": {},
     "output_type": "execute_result"
    }
   ],
   "source": [
    "y_pred = model.predict_proba(X_val)[:,1]  # GEts the predictions form the model\n",
    "churn = y_pred >= 0.5 # Makes \"Hard\" predictions, using 0.5 as the threshold\n",
    "(churn == y_val).mean() # Computes the accuracy"
   ]
  },
  {
   "cell_type": "code",
   "execution_count": 42,
   "id": "cb5f6e9c-3174-4252-8866-f8d366d82144",
   "metadata": {},
   "outputs": [],
   "source": [
    "from sklearn.metrics import accuracy_score"
   ]
  },
  {
   "cell_type": "markdown",
   "id": "7d3202f1-cac3-431a-baa1-f81be46ca2f4",
   "metadata": {},
   "source": [
    "Now we can loop over different thresholds and check which one gives the best accuracy"
   ]
  },
  {
   "cell_type": "code",
   "execution_count": 43,
   "id": "13bdb894-6b92-491c-937b-97f4915d36c3",
   "metadata": {},
   "outputs": [
    {
     "name": "stdout",
     "output_type": "stream",
     "text": [
      "0.00 0.261\n",
      "0.10 0.595\n",
      "0.20 0.690\n",
      "0.30 0.755\n",
      "0.40 0.782\n",
      "0.50 0.802\n",
      "0.60 0.790\n",
      "0.70 0.774\n",
      "0.80 0.742\n",
      "0.90 0.739\n",
      "1.00 0.739\n"
     ]
    }
   ],
   "source": [
    "thresholds = np.linspace(0, 1, 11) # Creates an array with different thresholds: 0.0, 0.1, 0.2, ... 1\n",
    "\n",
    "for t in thresholds:\n",
    "    churn = y_pred >= t\n",
    "    acc = accuracy_score(y_val, churn) # Uses the accuracy_score function from scikit for computing accuracy\n",
    "    print('%0.2f %0.3f' % (t, acc))"
   ]
  },
  {
   "cell_type": "markdown",
   "id": "e6d3d7fe-ecd1-4ad8-82df-23f743e5c0e0",
   "metadata": {},
   "source": [
    "the same but more visual"
   ]
  },
  {
   "cell_type": "code",
   "execution_count": 44,
   "id": "adc2674f-c74c-4f3a-97d3-92ef0925f20b",
   "metadata": {},
   "outputs": [],
   "source": [
    "thresholds = np.linspace(0,1,21)\n",
    "accuracies = []\n",
    "for t in thresholds:\n",
    "    acc = accuracy_score(y_val, y_pred >= t)\n",
    "    accuracies.append(acc)"
   ]
  },
  {
   "cell_type": "code",
   "execution_count": 45,
   "id": "e925f953-3816-483b-8a2a-2d755903e21a",
   "metadata": {},
   "outputs": [
    {
     "data": {
      "image/png": "[encoded data removed]",
      "text/plain": [
       "<Figure size 576x288 with 1 Axes>"
      ]
     },
     "metadata": {
      "needs_background": "light"
     },
     "output_type": "display_data"
    }
   ],
   "source": [
    "plt.figure(figsize=(8, 4))\n",
    "\n",
    "plt.plot(thresholds, accuracies, color='black')\n",
    "\n",
    "plt.title('Threshold vs Accuracy')\n",
    "plt.xlabel('Threshold')\n",
    "plt.ylabel('Accuracy')\n",
    "\n",
    "plt.xticks(np.linspace(0, 1, 11))\n",
    "\n",
    "plt.show()"
   ]
  },
  {
   "cell_type": "code",
   "execution_count": 46,
   "id": "c3d85607-1434-48ec-88b6-ee101a4ed478",
   "metadata": {},
   "outputs": [
    {
     "data": {
      "text/plain": [
       "0.7672043010752688"
      ]
     },
     "execution_count": 46,
     "metadata": {},
     "output_type": "execute_result"
    }
   ],
   "source": [
    "val_dict_small = df_val[small_subset].to_dict(orient='records') # applies one hot encoding to the validation data\n",
    "X_small_val = dv_small.transform(val_dict_small) \n",
    "y_pred_small = model_small.predict_proba(X_small_val)[:,1] # predicts churn using the small model\n",
    "\n",
    "churn_small = y_pred_small >= 0.5\n",
    "accuracy_score(y_val, churn_small)  #calculates the accuracy of the predictions"
   ]
  },
  {
   "cell_type": "markdown",
   "id": "7e06256a-ff29-4ec7-a401-142b7479cf9a",
   "metadata": {},
   "source": [
    "## Dummy Baseline"
   ]
  },
  {
   "cell_type": "code",
   "execution_count": 47,
   "id": "15f62b9f-05ab-4790-9b18-961b0ae72f62",
   "metadata": {},
   "outputs": [],
   "source": [
    "size_val = len(y_val) # gets the number of customers in the validation set\n",
    "baseline = np.repeat(False, size_val) # creates an array with obly false elements"
   ]
  },
  {
   "cell_type": "code",
   "execution_count": 48,
   "id": "ab20708a-6d82-4b17-9bb9-a8900b2595d5",
   "metadata": {},
   "outputs": [
    {
     "data": {
      "text/plain": [
       "0.7387096774193549"
      ]
     },
     "execution_count": 48,
     "metadata": {},
     "output_type": "execute_result"
    }
   ],
   "source": [
    "accuracy_score(baseline, y_val)"
   ]
  },
  {
   "cell_type": "markdown",
   "id": "e3d5f462-3127-486e-9b56-50b7217415ef",
   "metadata": {},
   "source": [
    "## Confusion table"
   ]
  },
  {
   "cell_type": "code",
   "execution_count": 49,
   "id": "7d28ae14-aeff-47ba-9f59-6e56a3dd475f",
   "metadata": {},
   "outputs": [],
   "source": [
    "t = 0.5\n",
    "predict_churn = (y_pred >= t)\n",
    "predict_no_churn = (y_pred < t)\n",
    "\n",
    "actual_churn = (y_val == 1)\n",
    "actual_no_churn = (y_val == 0)\n",
    "\n",
    "true_positive = (predict_churn & actual_churn).sum()\n",
    "false_positive = (predict_churn & actual_no_churn).sum()\n",
    "\n",
    "false_negative = (predict_no_churn & actual_churn).sum()\n",
    "true_negative = (predict_no_churn & actual_no_churn).sum()"
   ]
  },
  {
   "cell_type": "code",
   "execution_count": 50,
   "id": "588ae57d-0d4c-4ca6-93ca-141b8243e976",
   "metadata": {},
   "outputs": [
    {
     "data": {
      "text/plain": [
       "array([[1202,  172],\n",
       "       [ 197,  289]])"
      ]
     },
     "execution_count": 50,
     "metadata": {},
     "output_type": "execute_result"
    }
   ],
   "source": [
    "confusion_table = np.array(\n",
    "    [[true_negative, false_positive],\n",
    "    [false_negative, true_positive]]\n",
    ")\n",
    "\n",
    "confusion_table"
   ]
  },
  {
   "cell_type": "markdown",
   "id": "cfbc945f-f8ae-4c50-815f-548957fe0422",
   "metadata": {},
   "source": [
    "We can turn them into fractions to understand better"
   ]
  },
  {
   "cell_type": "code",
   "execution_count": 51,
   "id": "d32dcd0f-65cc-41bc-a4b4-21be45a26d43",
   "metadata": {},
   "outputs": [
    {
     "data": {
      "text/plain": [
       "array([[0.64623656, 0.09247312],\n",
       "       [0.10591398, 0.15537634]])"
      ]
     },
     "execution_count": 51,
     "metadata": {},
     "output_type": "execute_result"
    }
   ],
   "source": [
    "confusion_table / confusion_table.sum()"
   ]
  },
  {
   "cell_type": "code",
   "execution_count": 52,
   "id": "5c250280-d8d3-4116-aa66-ee8976e98f62",
   "metadata": {},
   "outputs": [
    {
     "data": {
      "text/plain": [
       "(0.6268980477223427, 0.5946502057613169)"
      ]
     },
     "execution_count": 52,
     "metadata": {},
     "output_type": "execute_result"
    }
   ],
   "source": [
    " precision = true_positive / (true_positive + false_positive)\n",
    "recall = true_positive / (true_positive + false_negative)\n",
    "\n",
    "precision, recall"
   ]
  },
  {
   "cell_type": "markdown",
   "id": "4041d999-f1d1-41e4-bf15-12089a304755",
   "metadata": {},
   "source": [
    "## ROC and AUC"
   ]
  },
  {
   "cell_type": "markdown",
   "id": "dcd01add-542e-4a17-9efe-775e9f179d26",
   "metadata": {},
   "source": [
    "Instead of evaluating the model at one particular threshold, we can do it for a range of them"
   ]
  },
  {
   "cell_type": "code",
   "execution_count": 53,
   "id": "d344a167-e60c-403f-b3c2-1e167080a02f",
   "metadata": {},
   "outputs": [
    {
     "data": {
      "text/html": [
       "<div>\n",
       "<style scoped>\n",
       "    .dataframe tbody tr th:only-of-type {\n",
       "        vertical-align: middle;\n",
       "    }\n",
       "\n",
       "    .dataframe tbody tr th {\n",
       "        vertical-align: top;\n",
       "    }\n",
       "\n",
       "    .dataframe thead th {\n",
       "        text-align: right;\n",
       "    }\n",
       "</style>\n",
       "<table border=\"1\" class=\"dataframe\">\n",
       "  <thead>\n",
       "    <tr style=\"text-align: right;\">\n",
       "      <th></th>\n",
       "      <th>threshold</th>\n",
       "      <th>tp</th>\n",
       "      <th>fp</th>\n",
       "      <th>fn</th>\n",
       "      <th>tn</th>\n",
       "    </tr>\n",
       "  </thead>\n",
       "  <tbody>\n",
       "    <tr>\n",
       "      <th>0</th>\n",
       "      <td>0.0</td>\n",
       "      <td>486</td>\n",
       "      <td>1374</td>\n",
       "      <td>0</td>\n",
       "      <td>0</td>\n",
       "    </tr>\n",
       "    <tr>\n",
       "      <th>10</th>\n",
       "      <td>0.1</td>\n",
       "      <td>458</td>\n",
       "      <td>726</td>\n",
       "      <td>28</td>\n",
       "      <td>648</td>\n",
       "    </tr>\n",
       "    <tr>\n",
       "      <th>20</th>\n",
       "      <td>0.2</td>\n",
       "      <td>421</td>\n",
       "      <td>512</td>\n",
       "      <td>65</td>\n",
       "      <td>862</td>\n",
       "    </tr>\n",
       "    <tr>\n",
       "      <th>30</th>\n",
       "      <td>0.3</td>\n",
       "      <td>380</td>\n",
       "      <td>350</td>\n",
       "      <td>106</td>\n",
       "      <td>1024</td>\n",
       "    </tr>\n",
       "    <tr>\n",
       "      <th>40</th>\n",
       "      <td>0.4</td>\n",
       "      <td>337</td>\n",
       "      <td>257</td>\n",
       "      <td>149</td>\n",
       "      <td>1117</td>\n",
       "    </tr>\n",
       "    <tr>\n",
       "      <th>50</th>\n",
       "      <td>0.5</td>\n",
       "      <td>289</td>\n",
       "      <td>172</td>\n",
       "      <td>197</td>\n",
       "      <td>1202</td>\n",
       "    </tr>\n",
       "    <tr>\n",
       "      <th>60</th>\n",
       "      <td>0.6</td>\n",
       "      <td>200</td>\n",
       "      <td>105</td>\n",
       "      <td>286</td>\n",
       "      <td>1269</td>\n",
       "    </tr>\n",
       "    <tr>\n",
       "      <th>70</th>\n",
       "      <td>0.7</td>\n",
       "      <td>99</td>\n",
       "      <td>34</td>\n",
       "      <td>387</td>\n",
       "      <td>1340</td>\n",
       "    </tr>\n",
       "    <tr>\n",
       "      <th>80</th>\n",
       "      <td>0.8</td>\n",
       "      <td>7</td>\n",
       "      <td>1</td>\n",
       "      <td>479</td>\n",
       "      <td>1373</td>\n",
       "    </tr>\n",
       "    <tr>\n",
       "      <th>90</th>\n",
       "      <td>0.9</td>\n",
       "      <td>0</td>\n",
       "      <td>0</td>\n",
       "      <td>486</td>\n",
       "      <td>1374</td>\n",
       "    </tr>\n",
       "    <tr>\n",
       "      <th>100</th>\n",
       "      <td>1.0</td>\n",
       "      <td>0</td>\n",
       "      <td>0</td>\n",
       "      <td>486</td>\n",
       "      <td>1374</td>\n",
       "    </tr>\n",
       "  </tbody>\n",
       "</table>\n",
       "</div>"
      ],
      "text/plain": [
       "     threshold   tp    fp   fn    tn\n",
       "0          0.0  486  1374    0     0\n",
       "10         0.1  458   726   28   648\n",
       "20         0.2  421   512   65   862\n",
       "30         0.3  380   350  106  1024\n",
       "40         0.4  337   257  149  1117\n",
       "50         0.5  289   172  197  1202\n",
       "60         0.6  200   105  286  1269\n",
       "70         0.7   99    34  387  1340\n",
       "80         0.8    7     1  479  1373\n",
       "90         0.9    0     0  486  1374\n",
       "100        1.0    0     0  486  1374"
      ]
     },
     "execution_count": 53,
     "metadata": {},
     "output_type": "execute_result"
    }
   ],
   "source": [
    "scores = []\n",
    "\n",
    "thresholds = np.linspace(0,1,101)\n",
    "\n",
    "for t in thresholds:\n",
    "    tp = ((y_pred >= t) & (y_val == 1)).sum()\n",
    "    fp = ((y_pred >= t) & (y_val == 0)).sum()\n",
    "    fn = ((y_pred < t) & (y_val == 1)).sum()\n",
    "    tn = ((y_pred < t) & (y_val == 0)).sum()\n",
    "    scores.append((t,tp,fp,fn,tn))\n",
    "    \n",
    "df_scores = pd.DataFrame(scores)\n",
    "df_scores.columns = ['threshold', 'tp', 'fp', 'fn', 'tn']\n",
    "\n",
    "df_scores[::10]"
   ]
  },
  {
   "cell_type": "markdown",
   "id": "2b2c374b-9917-4940-9bca-671f4862bf17",
   "metadata": {},
   "source": [
    "Now we can compute the TPR and FPR scores. Because the data is now in a dataframe, we can do it for all the values at once"
   ]
  },
  {
   "cell_type": "code",
   "execution_count": 54,
   "id": "13103cc2-e6ae-4033-a243-ed187852b400",
   "metadata": {},
   "outputs": [
    {
     "data": {
      "text/html": [
       "<div>\n",
       "<style scoped>\n",
       "    .dataframe tbody tr th:only-of-type {\n",
       "        vertical-align: middle;\n",
       "    }\n",
       "\n",
       "    .dataframe tbody tr th {\n",
       "        vertical-align: top;\n",
       "    }\n",
       "\n",
       "    .dataframe thead th {\n",
       "        text-align: right;\n",
       "    }\n",
       "</style>\n",
       "<table border=\"1\" class=\"dataframe\">\n",
       "  <thead>\n",
       "    <tr style=\"text-align: right;\">\n",
       "      <th></th>\n",
       "      <th>threshold</th>\n",
       "      <th>tp</th>\n",
       "      <th>fp</th>\n",
       "      <th>fn</th>\n",
       "      <th>tn</th>\n",
       "      <th>tpr</th>\n",
       "      <th>fpr</th>\n",
       "    </tr>\n",
       "  </thead>\n",
       "  <tbody>\n",
       "    <tr>\n",
       "      <th>0</th>\n",
       "      <td>0.0</td>\n",
       "      <td>486</td>\n",
       "      <td>1374</td>\n",
       "      <td>0</td>\n",
       "      <td>0</td>\n",
       "      <td>1.000000</td>\n",
       "      <td>1.000000</td>\n",
       "    </tr>\n",
       "    <tr>\n",
       "      <th>10</th>\n",
       "      <td>0.1</td>\n",
       "      <td>458</td>\n",
       "      <td>726</td>\n",
       "      <td>28</td>\n",
       "      <td>648</td>\n",
       "      <td>0.942387</td>\n",
       "      <td>0.528384</td>\n",
       "    </tr>\n",
       "    <tr>\n",
       "      <th>20</th>\n",
       "      <td>0.2</td>\n",
       "      <td>421</td>\n",
       "      <td>512</td>\n",
       "      <td>65</td>\n",
       "      <td>862</td>\n",
       "      <td>0.866255</td>\n",
       "      <td>0.372635</td>\n",
       "    </tr>\n",
       "    <tr>\n",
       "      <th>30</th>\n",
       "      <td>0.3</td>\n",
       "      <td>380</td>\n",
       "      <td>350</td>\n",
       "      <td>106</td>\n",
       "      <td>1024</td>\n",
       "      <td>0.781893</td>\n",
       "      <td>0.254731</td>\n",
       "    </tr>\n",
       "    <tr>\n",
       "      <th>40</th>\n",
       "      <td>0.4</td>\n",
       "      <td>337</td>\n",
       "      <td>257</td>\n",
       "      <td>149</td>\n",
       "      <td>1117</td>\n",
       "      <td>0.693416</td>\n",
       "      <td>0.187045</td>\n",
       "    </tr>\n",
       "    <tr>\n",
       "      <th>50</th>\n",
       "      <td>0.5</td>\n",
       "      <td>289</td>\n",
       "      <td>172</td>\n",
       "      <td>197</td>\n",
       "      <td>1202</td>\n",
       "      <td>0.594650</td>\n",
       "      <td>0.125182</td>\n",
       "    </tr>\n",
       "    <tr>\n",
       "      <th>60</th>\n",
       "      <td>0.6</td>\n",
       "      <td>200</td>\n",
       "      <td>105</td>\n",
       "      <td>286</td>\n",
       "      <td>1269</td>\n",
       "      <td>0.411523</td>\n",
       "      <td>0.076419</td>\n",
       "    </tr>\n",
       "    <tr>\n",
       "      <th>70</th>\n",
       "      <td>0.7</td>\n",
       "      <td>99</td>\n",
       "      <td>34</td>\n",
       "      <td>387</td>\n",
       "      <td>1340</td>\n",
       "      <td>0.203704</td>\n",
       "      <td>0.024745</td>\n",
       "    </tr>\n",
       "    <tr>\n",
       "      <th>80</th>\n",
       "      <td>0.8</td>\n",
       "      <td>7</td>\n",
       "      <td>1</td>\n",
       "      <td>479</td>\n",
       "      <td>1373</td>\n",
       "      <td>0.014403</td>\n",
       "      <td>0.000728</td>\n",
       "    </tr>\n",
       "    <tr>\n",
       "      <th>90</th>\n",
       "      <td>0.9</td>\n",
       "      <td>0</td>\n",
       "      <td>0</td>\n",
       "      <td>486</td>\n",
       "      <td>1374</td>\n",
       "      <td>0.000000</td>\n",
       "      <td>0.000000</td>\n",
       "    </tr>\n",
       "    <tr>\n",
       "      <th>100</th>\n",
       "      <td>1.0</td>\n",
       "      <td>0</td>\n",
       "      <td>0</td>\n",
       "      <td>486</td>\n",
       "      <td>1374</td>\n",
       "      <td>0.000000</td>\n",
       "      <td>0.000000</td>\n",
       "    </tr>\n",
       "  </tbody>\n",
       "</table>\n",
       "</div>"
      ],
      "text/plain": [
       "     threshold   tp    fp   fn    tn       tpr       fpr\n",
       "0          0.0  486  1374    0     0  1.000000  1.000000\n",
       "10         0.1  458   726   28   648  0.942387  0.528384\n",
       "20         0.2  421   512   65   862  0.866255  0.372635\n",
       "30         0.3  380   350  106  1024  0.781893  0.254731\n",
       "40         0.4  337   257  149  1117  0.693416  0.187045\n",
       "50         0.5  289   172  197  1202  0.594650  0.125182\n",
       "60         0.6  200   105  286  1269  0.411523  0.076419\n",
       "70         0.7   99    34  387  1340  0.203704  0.024745\n",
       "80         0.8    7     1  479  1373  0.014403  0.000728\n",
       "90         0.9    0     0  486  1374  0.000000  0.000000\n",
       "100        1.0    0     0  486  1374  0.000000  0.000000"
      ]
     },
     "execution_count": 54,
     "metadata": {},
     "output_type": "execute_result"
    }
   ],
   "source": [
    "df_scores['tpr'] = df_scores.tp / (df_scores.tp + df_scores.fn)\n",
    "df_scores['fpr'] = df_scores.fp / (df_scores.fp + df_scores.tn)\n",
    "\n",
    "df_scores[::10]"
   ]
  },
  {
   "cell_type": "code",
   "execution_count": 55,
   "id": "33a7ad38-ea0e-40b3-84ce-0bbb23d5cd82",
   "metadata": {},
   "outputs": [
    {
     "data": {
      "image/png": "[encoded data removed]",
      "text/plain": [
       "<Figure size 720x432 with 1 Axes>"
      ]
     },
     "metadata": {
      "needs_background": "light"
     },
     "output_type": "display_data"
    }
   ],
   "source": [
    "plt.figure(figsize=(10, 6))\n",
    "\n",
    "plt.plot(df_scores.threshold, df_scores.tpr, color='blue', linestyle='solid', label='TPR')\n",
    "plt.plot(df_scores.threshold, df_scores.fpr, color='green', linestyle='dashed', label='FPR')\n",
    "plt.legend()\n",
    "\n",
    "plt.xticks(np.linspace(0, 1, 11))\n",
    "plt.yticks(np.linspace(0, 1, 11))\n",
    "\n",
    "plt.xlabel('Thresholds')\n",
    "plt.title('TPR and FPR')\n",
    "\n",
    "\n",
    "plt.show()"
   ]
  },
  {
   "cell_type": "markdown",
   "id": "12fec3a6-069b-447b-8092-9bd2b803b187",
   "metadata": {},
   "source": [
    "## Random Baseline Model"
   ]
  },
  {
   "cell_type": "markdown",
   "id": "b3d7b17f-4bab-467a-95d2-361e2d72d996",
   "metadata": {},
   "source": [
    "### A Dummy Model"
   ]
  },
  {
   "cell_type": "markdown",
   "id": "40b3b334-b885-4af8-8904-86641acb9708",
   "metadata": {},
   "source": [
    "A random model outputs a random score between 0 and 1, regardless of the input."
   ]
  },
  {
   "cell_type": "code",
   "execution_count": 56,
   "id": "87f14f48-19fc-4290-9b2e-588c2afab2b0",
   "metadata": {},
   "outputs": [],
   "source": [
    "np.random.seed(1)\n",
    "\n",
    "y_rand = np.random.uniform(0,1, size=len(y_val))"
   ]
  },
  {
   "cell_type": "markdown",
   "id": "38c86ba7-eefe-4116-9dfc-22eceeaa2b67",
   "metadata": {},
   "source": [
    "Now we can simply pretend that y_rand contains the predictions of our model"
   ]
  },
  {
   "cell_type": "code",
   "execution_count": 57,
   "id": "826b8a27-85b1-4835-8d55-7cb68ba68d06",
   "metadata": {},
   "outputs": [],
   "source": [
    "def tpr_fpr_dataframe(y_val, y_pred):\n",
    "    scores = []\n",
    "    thresholds = np.linspace(0,1,101)\n",
    "    \n",
    "    for t in thresholds:\n",
    "        tp = ((y_pred >= t) & (y_val == 1)).sum()\n",
    "        fp = ((y_pred >= t) & (y_val == 0)).sum()\n",
    "        fn = ((y_pred < t) & (y_val == 1)).sum()\n",
    "        tn = ((y_pred < t) & (y_val == 0)).sum()\n",
    "        scores.append((t,tp,fp,fn,tn))\n",
    "        \n",
    "    df_scores = pd.DataFrame(scores)\n",
    "    df_scores.columns = ['threshold', 'tp', 'fp', 'fn', 'tn']\n",
    "\n",
    "    df_scores['tpr'] = df_scores.tp / (df_scores.tp + df_scores.fn)\n",
    "    df_scores['fpr'] = df_scores.fp / (df_scores.fp + df_scores.tn)\n",
    "\n",
    "    return df_scores"
   ]
  },
  {
   "cell_type": "code",
   "execution_count": 58,
   "id": "372a9f97-29cd-469f-84a1-41cbb08a5d31",
   "metadata": {},
   "outputs": [
    {
     "data": {
      "text/html": [
       "<div>\n",
       "<style scoped>\n",
       "    .dataframe tbody tr th:only-of-type {\n",
       "        vertical-align: middle;\n",
       "    }\n",
       "\n",
       "    .dataframe tbody tr th {\n",
       "        vertical-align: top;\n",
       "    }\n",
       "\n",
       "    .dataframe thead th {\n",
       "        text-align: right;\n",
       "    }\n",
       "</style>\n",
       "<table border=\"1\" class=\"dataframe\">\n",
       "  <thead>\n",
       "    <tr style=\"text-align: right;\">\n",
       "      <th></th>\n",
       "      <th>threshold</th>\n",
       "      <th>tp</th>\n",
       "      <th>fp</th>\n",
       "      <th>fn</th>\n",
       "      <th>tn</th>\n",
       "      <th>tpr</th>\n",
       "      <th>fpr</th>\n",
       "    </tr>\n",
       "  </thead>\n",
       "  <tbody>\n",
       "    <tr>\n",
       "      <th>0</th>\n",
       "      <td>0.0</td>\n",
       "      <td>486</td>\n",
       "      <td>1374</td>\n",
       "      <td>0</td>\n",
       "      <td>0</td>\n",
       "      <td>1.000000</td>\n",
       "      <td>1.000000</td>\n",
       "    </tr>\n",
       "    <tr>\n",
       "      <th>10</th>\n",
       "      <td>0.1</td>\n",
       "      <td>440</td>\n",
       "      <td>1236</td>\n",
       "      <td>46</td>\n",
       "      <td>138</td>\n",
       "      <td>0.905350</td>\n",
       "      <td>0.899563</td>\n",
       "    </tr>\n",
       "    <tr>\n",
       "      <th>20</th>\n",
       "      <td>0.2</td>\n",
       "      <td>392</td>\n",
       "      <td>1101</td>\n",
       "      <td>94</td>\n",
       "      <td>273</td>\n",
       "      <td>0.806584</td>\n",
       "      <td>0.801310</td>\n",
       "    </tr>\n",
       "    <tr>\n",
       "      <th>30</th>\n",
       "      <td>0.3</td>\n",
       "      <td>339</td>\n",
       "      <td>972</td>\n",
       "      <td>147</td>\n",
       "      <td>402</td>\n",
       "      <td>0.697531</td>\n",
       "      <td>0.707424</td>\n",
       "    </tr>\n",
       "    <tr>\n",
       "      <th>40</th>\n",
       "      <td>0.4</td>\n",
       "      <td>288</td>\n",
       "      <td>849</td>\n",
       "      <td>198</td>\n",
       "      <td>525</td>\n",
       "      <td>0.592593</td>\n",
       "      <td>0.617904</td>\n",
       "    </tr>\n",
       "    <tr>\n",
       "      <th>50</th>\n",
       "      <td>0.5</td>\n",
       "      <td>239</td>\n",
       "      <td>723</td>\n",
       "      <td>247</td>\n",
       "      <td>651</td>\n",
       "      <td>0.491770</td>\n",
       "      <td>0.526201</td>\n",
       "    </tr>\n",
       "    <tr>\n",
       "      <th>60</th>\n",
       "      <td>0.6</td>\n",
       "      <td>193</td>\n",
       "      <td>579</td>\n",
       "      <td>293</td>\n",
       "      <td>795</td>\n",
       "      <td>0.397119</td>\n",
       "      <td>0.421397</td>\n",
       "    </tr>\n",
       "    <tr>\n",
       "      <th>70</th>\n",
       "      <td>0.7</td>\n",
       "      <td>152</td>\n",
       "      <td>422</td>\n",
       "      <td>334</td>\n",
       "      <td>952</td>\n",
       "      <td>0.312757</td>\n",
       "      <td>0.307132</td>\n",
       "    </tr>\n",
       "    <tr>\n",
       "      <th>80</th>\n",
       "      <td>0.8</td>\n",
       "      <td>98</td>\n",
       "      <td>302</td>\n",
       "      <td>388</td>\n",
       "      <td>1072</td>\n",
       "      <td>0.201646</td>\n",
       "      <td>0.219796</td>\n",
       "    </tr>\n",
       "    <tr>\n",
       "      <th>90</th>\n",
       "      <td>0.9</td>\n",
       "      <td>57</td>\n",
       "      <td>147</td>\n",
       "      <td>429</td>\n",
       "      <td>1227</td>\n",
       "      <td>0.117284</td>\n",
       "      <td>0.106987</td>\n",
       "    </tr>\n",
       "    <tr>\n",
       "      <th>100</th>\n",
       "      <td>1.0</td>\n",
       "      <td>0</td>\n",
       "      <td>0</td>\n",
       "      <td>486</td>\n",
       "      <td>1374</td>\n",
       "      <td>0.000000</td>\n",
       "      <td>0.000000</td>\n",
       "    </tr>\n",
       "  </tbody>\n",
       "</table>\n",
       "</div>"
      ],
      "text/plain": [
       "     threshold   tp    fp   fn    tn       tpr       fpr\n",
       "0          0.0  486  1374    0     0  1.000000  1.000000\n",
       "10         0.1  440  1236   46   138  0.905350  0.899563\n",
       "20         0.2  392  1101   94   273  0.806584  0.801310\n",
       "30         0.3  339   972  147   402  0.697531  0.707424\n",
       "40         0.4  288   849  198   525  0.592593  0.617904\n",
       "50         0.5  239   723  247   651  0.491770  0.526201\n",
       "60         0.6  193   579  293   795  0.397119  0.421397\n",
       "70         0.7  152   422  334   952  0.312757  0.307132\n",
       "80         0.8   98   302  388  1072  0.201646  0.219796\n",
       "90         0.9   57   147  429  1227  0.117284  0.106987\n",
       "100        1.0    0     0  486  1374  0.000000  0.000000"
      ]
     },
     "execution_count": 58,
     "metadata": {},
     "output_type": "execute_result"
    }
   ],
   "source": [
    "df_rand = tpr_fpr_dataframe(y_val, y_rand)\n",
    "\n",
    "df_rand[::10]"
   ]
  },
  {
   "cell_type": "code",
   "execution_count": 59,
   "id": "62180231-9597-4bd5-89f8-b4c04307bc45",
   "metadata": {},
   "outputs": [
    {
     "data": {
      "image/png": "[encoded data removed]",
      "text/plain": [
       "<Figure size 720x432 with 1 Axes>"
      ]
     },
     "metadata": {
      "needs_background": "light"
     },
     "output_type": "display_data"
    }
   ],
   "source": [
    "plt.figure(figsize=(10, 6))\n",
    "\n",
    "plt.plot(df_rand.threshold, df_rand.tpr, color='blue', linestyle='solid', label='TPR')\n",
    "plt.plot(df_rand.threshold, df_rand.fpr, color='green', linestyle='dashed', label='FPR')\n",
    "plt.legend()\n",
    "\n",
    "plt.xticks(np.linspace(0, 1, 11))\n",
    "plt.yticks(np.linspace(0, 1, 11))\n",
    "\n",
    "plt.xlabel('Thresholds')\n",
    "plt.title('TPR and FPR for the random model')\n",
    "\n",
    "\n",
    "plt.show()"
   ]
  },
  {
   "cell_type": "markdown",
   "id": "b2565b57-f002-4d55-85e7-b7b136d3c2e6",
   "metadata": {},
   "source": [
    "### The ideal model"
   ]
  },
  {
   "cell_type": "code",
   "execution_count": 60,
   "id": "c7714dc4-a3cb-47a2-94a3-bdc60ec79dac",
   "metadata": {},
   "outputs": [
    {
     "data": {
      "text/html": [
       "<div>\n",
       "<style scoped>\n",
       "    .dataframe tbody tr th:only-of-type {\n",
       "        vertical-align: middle;\n",
       "    }\n",
       "\n",
       "    .dataframe tbody tr th {\n",
       "        vertical-align: top;\n",
       "    }\n",
       "\n",
       "    .dataframe thead th {\n",
       "        text-align: right;\n",
       "    }\n",
       "</style>\n",
       "<table border=\"1\" class=\"dataframe\">\n",
       "  <thead>\n",
       "    <tr style=\"text-align: right;\">\n",
       "      <th></th>\n",
       "      <th>threshold</th>\n",
       "      <th>tp</th>\n",
       "      <th>fp</th>\n",
       "      <th>fn</th>\n",
       "      <th>tn</th>\n",
       "      <th>tpr</th>\n",
       "      <th>fpr</th>\n",
       "    </tr>\n",
       "  </thead>\n",
       "  <tbody>\n",
       "    <tr>\n",
       "      <th>0</th>\n",
       "      <td>0.0</td>\n",
       "      <td>486</td>\n",
       "      <td>1374</td>\n",
       "      <td>0</td>\n",
       "      <td>0</td>\n",
       "      <td>1.000000</td>\n",
       "      <td>1.000000</td>\n",
       "    </tr>\n",
       "    <tr>\n",
       "      <th>10</th>\n",
       "      <td>0.1</td>\n",
       "      <td>486</td>\n",
       "      <td>1188</td>\n",
       "      <td>0</td>\n",
       "      <td>186</td>\n",
       "      <td>1.000000</td>\n",
       "      <td>0.864629</td>\n",
       "    </tr>\n",
       "    <tr>\n",
       "      <th>20</th>\n",
       "      <td>0.2</td>\n",
       "      <td>486</td>\n",
       "      <td>1002</td>\n",
       "      <td>0</td>\n",
       "      <td>372</td>\n",
       "      <td>1.000000</td>\n",
       "      <td>0.729258</td>\n",
       "    </tr>\n",
       "    <tr>\n",
       "      <th>30</th>\n",
       "      <td>0.3</td>\n",
       "      <td>486</td>\n",
       "      <td>816</td>\n",
       "      <td>0</td>\n",
       "      <td>558</td>\n",
       "      <td>1.000000</td>\n",
       "      <td>0.593886</td>\n",
       "    </tr>\n",
       "    <tr>\n",
       "      <th>40</th>\n",
       "      <td>0.4</td>\n",
       "      <td>486</td>\n",
       "      <td>630</td>\n",
       "      <td>0</td>\n",
       "      <td>744</td>\n",
       "      <td>1.000000</td>\n",
       "      <td>0.458515</td>\n",
       "    </tr>\n",
       "    <tr>\n",
       "      <th>50</th>\n",
       "      <td>0.5</td>\n",
       "      <td>486</td>\n",
       "      <td>444</td>\n",
       "      <td>0</td>\n",
       "      <td>930</td>\n",
       "      <td>1.000000</td>\n",
       "      <td>0.323144</td>\n",
       "    </tr>\n",
       "    <tr>\n",
       "      <th>60</th>\n",
       "      <td>0.6</td>\n",
       "      <td>486</td>\n",
       "      <td>258</td>\n",
       "      <td>0</td>\n",
       "      <td>1116</td>\n",
       "      <td>1.000000</td>\n",
       "      <td>0.187773</td>\n",
       "    </tr>\n",
       "    <tr>\n",
       "      <th>70</th>\n",
       "      <td>0.7</td>\n",
       "      <td>486</td>\n",
       "      <td>72</td>\n",
       "      <td>0</td>\n",
       "      <td>1302</td>\n",
       "      <td>1.000000</td>\n",
       "      <td>0.052402</td>\n",
       "    </tr>\n",
       "    <tr>\n",
       "      <th>80</th>\n",
       "      <td>0.8</td>\n",
       "      <td>372</td>\n",
       "      <td>0</td>\n",
       "      <td>114</td>\n",
       "      <td>1374</td>\n",
       "      <td>0.765432</td>\n",
       "      <td>0.000000</td>\n",
       "    </tr>\n",
       "    <tr>\n",
       "      <th>90</th>\n",
       "      <td>0.9</td>\n",
       "      <td>186</td>\n",
       "      <td>0</td>\n",
       "      <td>300</td>\n",
       "      <td>1374</td>\n",
       "      <td>0.382716</td>\n",
       "      <td>0.000000</td>\n",
       "    </tr>\n",
       "    <tr>\n",
       "      <th>100</th>\n",
       "      <td>1.0</td>\n",
       "      <td>1</td>\n",
       "      <td>0</td>\n",
       "      <td>485</td>\n",
       "      <td>1374</td>\n",
       "      <td>0.002058</td>\n",
       "      <td>0.000000</td>\n",
       "    </tr>\n",
       "  </tbody>\n",
       "</table>\n",
       "</div>"
      ],
      "text/plain": [
       "     threshold   tp    fp   fn    tn       tpr       fpr\n",
       "0          0.0  486  1374    0     0  1.000000  1.000000\n",
       "10         0.1  486  1188    0   186  1.000000  0.864629\n",
       "20         0.2  486  1002    0   372  1.000000  0.729258\n",
       "30         0.3  486   816    0   558  1.000000  0.593886\n",
       "40         0.4  486   630    0   744  1.000000  0.458515\n",
       "50         0.5  486   444    0   930  1.000000  0.323144\n",
       "60         0.6  486   258    0  1116  1.000000  0.187773\n",
       "70         0.7  486    72    0  1302  1.000000  0.052402\n",
       "80         0.8  372     0  114  1374  0.765432  0.000000\n",
       "90         0.9  186     0  300  1374  0.382716  0.000000\n",
       "100        1.0    1     0  485  1374  0.002058  0.000000"
      ]
     },
     "execution_count": 60,
     "metadata": {},
     "output_type": "execute_result"
    }
   ],
   "source": [
    "num_neg = (y_val == 0).sum()\n",
    "num_pos = (y_val == 1).sum()\n",
    "\n",
    "y_ideal = np.repeat([0,1] , [num_neg, num_pos])\n",
    "y_pred_ideal = np.linspace(0,1, num_neg + num_pos)\n",
    "\n",
    "df_ideal = tpr_fpr_dataframe(y_ideal, y_pred_ideal)\n",
    "\n",
    "df_ideal[::10]"
   ]
  },
  {
   "cell_type": "code",
   "execution_count": 61,
   "id": "ff20e0a7-1b42-4fac-86a6-e1261831ff73",
   "metadata": {},
   "outputs": [
    {
     "data": {
      "image/png": "[encoded data removed]",
      "text/plain": [
       "<Figure size 720x432 with 1 Axes>"
      ]
     },
     "metadata": {
      "needs_background": "light"
     },
     "output_type": "display_data"
    }
   ],
   "source": [
    "plt.figure(figsize=(10, 6))\n",
    "\n",
    "plt.plot(df_ideal.threshold, df_ideal.tpr, color='blue', linestyle='solid', label='TPR')\n",
    "plt.plot(df_ideal.threshold, df_ideal.fpr, color='green', linestyle='dashed', label='FPR')\n",
    "plt.legend()\n",
    "\n",
    "plt.xticks(np.linspace(0, 1, 11))\n",
    "plt.yticks(np.linspace(0, 1, 11))\n",
    "\n",
    "plt.vlines(1 - y_val.mean(), -1, 2, linewidth=1, linestyle='dotted', color='grey') # ideal threshold at 0.74\n",
    "plt.ylim(-0.03, 1.03)\n",
    "\n",
    "plt.xlabel('Thresholds')\n",
    "plt.title('TPR and FPR for the ideal model')\n",
    "\n",
    "\n",
    "plt.show()"
   ]
  },
  {
   "cell_type": "markdown",
   "id": "fe061405-f33f-4ee4-a16f-f126ce05ef2a",
   "metadata": {},
   "source": [
    "### ROC Curve"
   ]
  },
  {
   "cell_type": "code",
   "execution_count": 62,
   "id": "89b57d15-4ad2-4e60-b0ff-954a478ad025",
   "metadata": {},
   "outputs": [
    {
     "data": {
      "image/png": "[encoded data removed]",
      "text/plain": [
       "<Figure size 720x720 with 1 Axes>"
      ]
     },
     "metadata": {
      "needs_background": "light"
     },
     "output_type": "display_data"
    }
   ],
   "source": [
    "plt.figure(figsize=(10, 10))\n",
    "\n",
    "plt.plot(df_scores.fpr, df_scores.tpr, color='black', label='Model')\n",
    "plt.plot(df_rand.fpr, df_rand.tpr, color='black', lw=1,linestyle='dashed', alpha=0.5, label='Random')\n",
    "plt.plot(df_ideal.fpr, df_ideal.tpr, color='black', lw=0.5,linestyle='solid', alpha=0.5, label='Ideal')\n",
    "\n",
    "plt.legend()\n",
    "\n",
    "plt.xlim([-0.02, 1.02])\n",
    "plt.ylim([-0.02, 1.02])\n",
    "plt.xlabel('False Positive Rate')\n",
    "plt.ylabel('True Positive Rate')\n",
    "\n",
    "plt.title('ROC curve')\n",
    "\n",
    "\n",
    "plt.show()"
   ]
  },
  {
   "cell_type": "markdown",
   "id": "e6912f87-35af-420b-8131-00c3b44b90df",
   "metadata": {},
   "source": [
    "Although computing all the FPR and TPR values across many thresholds is a good excercise, we don't need to do it ourselves everytime we want to plot an ROC curve "
   ]
  },
  {
   "cell_type": "code",
   "execution_count": 63,
   "id": "803333f9-8587-484f-ac79-79b9b37fef87",
   "metadata": {},
   "outputs": [
    {
     "data": {
      "image/png": "[encoded data removed]",
      "text/plain": [
       "<Figure size 720x720 with 1 Axes>"
      ]
     },
     "metadata": {
      "needs_background": "light"
     },
     "output_type": "display_data"
    }
   ],
   "source": [
    "from sklearn.metrics import roc_curve\n",
    "\n",
    "fpr, tpr, thresholds = roc_curve(y_val, y_pred)\n",
    "\n",
    "plt.figure(figsize=(10, 10))\n",
    "\n",
    "plt.plot(fpr, tpr, color='black')\n",
    "plt.plot([0, 1], [0, 1], color='black', lw=0.7, linestyle='dashed', alpha=0.5)\n",
    "\n",
    "plt.xlim([-0.02, 1.02])\n",
    "plt.ylim([-0.02, 1.02])\n",
    "plt.xlabel('False Positive Rate')\n",
    "plt.ylabel('True Positive Rate')\n",
    "\n",
    "plt.title('ROC curve')\n",
    "\n",
    "plt.show()"
   ]
  },
  {
   "cell_type": "markdown",
   "id": "9e4b2a05-44d3-47a2-8eed-45d6f6dcf346",
   "metadata": {},
   "source": [
    "### Comparing ROC curves"
   ]
  },
  {
   "cell_type": "code",
   "execution_count": 64,
   "id": "a4985583-4092-4ab9-a65f-24f89eead86e",
   "metadata": {},
   "outputs": [
    {
     "data": {
      "image/png": "[encoded data removed]",
      "text/plain": [
       "<Figure size 720x720 with 1 Axes>"
      ]
     },
     "metadata": {
      "needs_background": "light"
     },
     "output_type": "display_data"
    }
   ],
   "source": [
    "fpr_large, tpr_large, _ = roc_curve(y_val, y_pred)\n",
    "fpr_small, tpr_small, _ = roc_curve(y_val, y_pred_small)\n",
    "\n",
    "plt.figure(figsize=(10, 10))\n",
    "\n",
    "plt.plot(fpr_large, tpr_large, color='black', linestyle='solid', label='Large')\n",
    "plt.plot(fpr_small, tpr_small, color='black', linestyle='dashed', label='Small')\n",
    "plt.plot([0, 1], [0, 1], color='black', lw=0.7, linestyle='dashed', alpha=0.5)\n",
    "\n",
    "plt.xlim([-0.02, 1.02])\n",
    "plt.ylim([-0.02, 1.02])\n",
    "plt.xlabel('False Positive Rate')\n",
    "plt.ylabel('True Positive Rate')\n",
    "\n",
    "plt.title('ROC curve')\n",
    "plt.legend(loc='lower right')\n",
    "\n",
    "plt.show()"
   ]
  },
  {
   "cell_type": "markdown",
   "id": "2111b075-b565-471a-b3e8-3fed9c15c2d5",
   "metadata": {},
   "source": [
    "### AUC"
   ]
  },
  {
   "cell_type": "code",
   "execution_count": 65,
   "id": "b3043ae5-5ec3-49e6-b65e-375406b6d4ec",
   "metadata": {},
   "outputs": [
    {
     "data": {
      "text/plain": [
       "0.8359150837721111"
      ]
     },
     "execution_count": 65,
     "metadata": {},
     "output_type": "execute_result"
    }
   ],
   "source": [
    "from sklearn.metrics import auc\n",
    "\n",
    "auc(df_scores.fpr, df_scores.tpr) # AUC for the large model"
   ]
  },
  {
   "cell_type": "code",
   "execution_count": 66,
   "id": "38c82cc9-563b-43f9-ad22-b9e0e44dec3b",
   "metadata": {},
   "outputs": [
    {
     "data": {
      "text/plain": [
       "0.8108718050089552"
      ]
     },
     "execution_count": 66,
     "metadata": {},
     "output_type": "execute_result"
    }
   ],
   "source": [
    "df_scores_small = tpr_fpr_dataframe(y_val, y_pred_small)\n",
    "\n",
    "auc(df_scores_small.fpr, df_scores_small.tpr) # AUC for the small model"
   ]
  },
  {
   "cell_type": "markdown",
   "id": "4b6c5e5d-ad6e-41f6-9107-b4afb0bbfa28",
   "metadata": {},
   "source": [
    "We can take a shortcut and use a scikit function to calculate AUC"
   ]
  },
  {
   "cell_type": "code",
   "execution_count": 67,
   "id": "47598284-21e8-4c49-bd74-4da5927e4080",
   "metadata": {},
   "outputs": [
    {
     "data": {
      "text/plain": [
       "0.8363366398907398"
      ]
     },
     "execution_count": 67,
     "metadata": {},
     "output_type": "execute_result"
    }
   ],
   "source": [
    "from sklearn.metrics import roc_auc_score\n",
    "\n",
    "roc_auc_score(y_val,y_pred)"
   ]
  },
  {
   "cell_type": "code",
   "execution_count": 68,
   "id": "08ba3e30-a4de-48c1-9502-e7cd036152da",
   "metadata": {},
   "outputs": [
    {
     "data": {
      "text/plain": [
       "0.8117942866042492"
      ]
     },
     "execution_count": 68,
     "metadata": {},
     "output_type": "execute_result"
    }
   ],
   "source": [
    "roc_auc_score(y_val,y_pred_small)"
   ]
  },
  {
   "cell_type": "markdown",
   "id": "ddbaf5a8-8a46-47d7-8169-113b1b20ae2f",
   "metadata": {},
   "source": [
    "## K fold cross validation"
   ]
  },
  {
   "cell_type": "code",
   "execution_count": 69,
   "id": "20e5b1b6-1a20-45ff-aee3-6b2359b831da",
   "metadata": {},
   "outputs": [],
   "source": [
    "def train(df,y):\n",
    "    cat = df[categorical + numerical].to_dict(orient='records')\n",
    "    \n",
    "    dv = DictVectorizer(sparse=False)\n",
    "    dv.fit(cat)\n",
    "    \n",
    "    X = dv.transform(cat)\n",
    "    \n",
    "    model = LogisticRegression(solver='liblinear')\n",
    "    model.fit(X,y)\n",
    "    \n",
    "    return dv, model\n",
    "\n",
    "\n",
    "def predict(df, dv, model):\n",
    "    cat = df[categorical + numerical].to_dict(orient='records')\n",
    "    \n",
    "    X = dv.transform(cat)\n",
    "    \n",
    "    y_pred = model.predict_proba(X)[:,1]\n",
    "    \n",
    "    return y_pred"
   ]
  },
  {
   "cell_type": "code",
   "execution_count": 70,
   "id": "a1e65f02-bfa8-430b-a7c2-bcd1da3d0ee4",
   "metadata": {},
   "outputs": [],
   "source": [
    "from sklearn.model_selection import KFold"
   ]
  },
  {
   "cell_type": "code",
   "execution_count": 71,
   "id": "dd338e43-7156-4edf-a31e-19e8a91d9728",
   "metadata": {},
   "outputs": [],
   "source": [
    "kfold = KFold(n_splits=10, shuffle=True, random_state=1) # Split data into 10 parts\n",
    "\n",
    "aucs = [] # creates a list for storing the results\n",
    "\n",
    "for train_idx, val_idx, in kfold.split(df_train_full): # iterates over the 10 different splits of the data\n",
    "    df_train = df_train_full.iloc[train_idx]\n",
    "    df_val = df_train_full.iloc[val_idx]\n",
    "    \n",
    "    y_train = df_train.churn.values\n",
    "    y_val = df_val.churn.values\n",
    "    dv,model = train(df_train, y_train)\n",
    "    y_pred = predict(df_val, dv, model)\n",
    "    \n",
    "    auc = roc_auc_score(y_val, y_pred)\n",
    "    aucs.append(auc)"
   ]
  },
  {
   "cell_type": "code",
   "execution_count": 72,
   "id": "a81964d9-344e-406b-a619-30357b46efff",
   "metadata": {},
   "outputs": [
    {
     "data": {
      "text/plain": [
       "array([0.849, 0.841, 0.859, 0.833, 0.824, 0.841, 0.844, 0.824, 0.845,\n",
       "       0.861])"
      ]
     },
     "execution_count": 72,
     "metadata": {},
     "output_type": "execute_result"
    }
   ],
   "source": [
    "np.array(aucs).round(3)"
   ]
  },
  {
   "cell_type": "code",
   "execution_count": 73,
   "id": "fdbacc5b-fdd1-4210-a494-29725d2d70a4",
   "metadata": {},
   "outputs": [
    {
     "name": "stdout",
     "output_type": "stream",
     "text": [
      "auc = 0.842 ± 0.012\n"
     ]
    }
   ],
   "source": [
    "print('auc = %0.3f ± %0.3f' % (np.mean(aucs), np.std(aucs)))"
   ]
  },
  {
   "cell_type": "markdown",
   "id": "6261f520-8611-48ea-af63-e9631dc754de",
   "metadata": {},
   "source": [
    "Let's select our cross-validation procedure for selecting the best parameter C"
   ]
  },
  {
   "cell_type": "code",
   "execution_count": 74,
   "id": "df445fb4-dee3-42c7-9f7f-d2d223e67218",
   "metadata": {},
   "outputs": [],
   "source": [
    "def train(df,y, C):\n",
    "    cat = df[categorical + numerical].to_dict(orient='records')\n",
    "    dv = DictVectorizer(sparse=False)\n",
    "    dv.fit(cat)\n",
    "    \n",
    "    X = dv.transform(cat)\n",
    "    \n",
    "    model = LogisticRegression(solver='liblinear', C=C)\n",
    "    \n",
    "    model.fit(X,y)\n",
    "    \n",
    "    return dv,model"
   ]
  },
  {
   "cell_type": "code",
   "execution_count": 76,
   "id": "d8c1cfe1-d9d8-48ae-9751-4eb95faa68e8",
   "metadata": {},
   "outputs": [
    {
     "name": "stdout",
     "output_type": "stream",
     "text": [
      "C=0.001, auc = 0.825 ± 0.013\n",
      "C=0.01, auc = 0.839 ± 0.009\n",
      "C=0.1, auc = 0.841 ± 0.008\n",
      "C=0.5, auc = 0.841 ± 0.007\n",
      "C=1, auc = 0.841 ± 0.007\n",
      "C=10, auc = 0.841 ± 0.007\n"
     ]
    }
   ],
   "source": [
    "nfolds = 5\n",
    "kfold = KFold(n_splits=nfolds, shuffle=True, random_state=1)\n",
    "\n",
    "for C in [0.001, 0.01, 0.1, 0.5, 1, 10]:\n",
    "    aucs = []\n",
    "\n",
    "    for train_idx, val_idx in kfold.split(df_train_full):\n",
    "        df_train = df_train_full.iloc[train_idx]\n",
    "        df_val = df_train_full.iloc[val_idx]\n",
    "\n",
    "        y_train = df_train.churn.values\n",
    "        y_val = df_val.churn.values\n",
    "\n",
    "        dv, model = train(df_train, y_train, C=C)\n",
    "        y_pred = predict(df_val, dv, model)\n",
    "        \n",
    "        auc = roc_auc_score(y_val, y_pred)\n",
    "        aucs.append(auc)\n",
    "\n",
    "    print('C=%s, auc = %0.3f ± %0.3f' % (C, np.mean(aucs), np.std(aucs)))"
   ]
  },
  {
   "cell_type": "markdown",
   "id": "c0323052-e60d-4ccb-88ed-a746dfeb3777",
   "metadata": {},
   "source": [
    "Now we need to do the last step:train the model on the entire train and validation datasets and apply it to the test dataset to verify it indeed works well"
   ]
  },
  {
   "cell_type": "code",
   "execution_count": 78,
   "id": "5872d7d7-71b7-4cd9-8bfe-8e3f426fdde9",
   "metadata": {},
   "outputs": [
    {
     "name": "stdout",
     "output_type": "stream",
     "text": [
      "auc = 0.858\n"
     ]
    }
   ],
   "source": [
    "y_train = df_train_full.churn.values\n",
    "y_test = df_test.churn.values\n",
    "\n",
    "dv, model = train(df_train_full, y_train, C=0.5) # trains the model on the full training dataset\n",
    "y_pred = predict(df_test,dv,model) # applies to the test dataset\n",
    "\n",
    "auc = roc_auc_score(y_test, y_pred) # evaluates the predictions on the test data\n",
    "print('auc = %.3f' % auc)"
   ]
  },
  {
   "cell_type": "code",
   "execution_count": null,
   "id": "eb0cb21c-695f-4baf-8093-a1259915687a",
   "metadata": {},
   "outputs": [],
   "source": []
  }
 ],
 "metadata": {
  "kernelspec": {
   "display_name": "Python 3.9.7 64-bit",
   "language": "python",
   "name": "python39764bit8e40b775a9fb41a5829929bcef02dbae"
  },
  "language_info": {
   "codemirror_mode": {
    "name": "ipython",
    "version": 3
   },
   "file_extension": ".py",
   "mimetype": "text/x-python",
   "name": "python",
   "nbconvert_exporter": "python",
   "pygments_lexer": "ipython3",
   "version": "3.10.2"
  }
 },
 "nbformat": 4,
 "nbformat_minor": 5
}
